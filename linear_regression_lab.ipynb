{
  "cells": [
    {
      "cell_type": "markdown",
      "metadata": {
        "id": "5u8KJGz_ruxK"
      },
      "source": [
        "# Assign 2: Linear Regression Lab\n",
        "\n",
        "In this first lab you will fit a linear regression model. You will also dig deeper by 'training' a linear regression model manually in a few different ways.\n",
        "\n",
        "You might be wondering, \"*why all the excitement about linear regression?*\"  It so happens that regression is one of the workhorses of machine learning, and it also underlies other more complex types of models.  The advantage of regression models is that they are highly interpretable and very stable when it comes to training/fitting. In fact, linear regression models, particularly multiple linear regression with many input predictors, can mimic a lot of the power of more complex models, such as neural networks, while maintaining their computational stability and interpretability. There is a long running joke/meme about companies that claim to use \"machine learning\" actually use linear regression (and logistic regression, which we'll soon see more of). This isn't entirely a joke though since even if a company is using very powerful/complex types of models (e.g. deep neural networks), they will almost always have already tried using a linear regression model because it would be the cheaper and faster solution.  In other words, linear regression is almost always the default modeling approach, and is sometimes hard to beat!\n",
        "\n",
        "*Note that this notebook uses some content from a [course at NYU](https://cims.nyu.edu/~brenden/courses/labincp/labs/LabReg-IntroToRegression.html), which itself borrowed content from [General Assembly's Data Science](https://github.com/justmarkham/DAT4) course, which claims to have adapted materials one of the most authoratative texts on the subject, [An Introduction to Statistical Learning](http://www-bcf.usc.edu/~gareth/ISL/).*\n",
        "\n",
        "\n",
        "Next, we would typically load the Python libraries/modules that we'll use. However, these have been commented because we will load each module individually just before we use it, so that we can start to understand which modules does what."
      ]
    },
    {
      "cell_type": "code",
      "execution_count": 1,
      "metadata": {
        "id": "U-CBlj08ruxK"
      },
      "outputs": [],
      "source": [
        "#from IPython.core.display import HTML, Markdown #, display\n",
        "#from sklearn import linear_model\n",
        "#import numpy.random as npr\n",
        "#import numpy as np\n",
        "#import pandas as pd\n",
        "#import seaborn as sns\n",
        "#import matplotlib.pyplot as plt\n",
        "#import scipy.stats as stats\n",
        "#import statsmodels.formula.api as smf\n",
        "#import ipywidgets as widgets"
      ]
    },
    {
      "cell_type": "markdown",
      "metadata": {
        "id": "uxecP64iruxL"
      },
      "source": [
        "We are going to use the [statsmodels](https://www.statsmodels.org/stable/index.html) python package to fit our regression model because it has a lot of nice outputs which are helpful for interpreting regressions.  However, you could do almost all of the same using the [scikit-learn](https://scikit-learn.org/stable/) package, which is a more general package for machine learning than can perform various types of sophisticated regression, classification, clustering, and dimensionality reduction steps."
      ]
    },
    {
      "cell_type": "markdown",
      "metadata": {
        "id": "EL4st6cGruxL"
      },
      "source": [
        "## Loading the dataset\n",
        "\n",
        "Before training/fitting any model we need data. Below we will load a dataset from the text, [Learning Statistics with R](https://kpu.pressbooks.pub/learningstatistics/). The dataset will help us to explore the factors that lead to a parent being grumpy after having a baby.\n",
        "\n",
        "The data is located in a public github repository but loading will be no different than if it were a local file in our computer. We simply use the link to the file and open it with the [pandas](https://pandas.pydata.org) Python module `read_csv` command.\n",
        "\n",
        "Also, let's look at the first few rows of data. Note that one row can be thought of as one *observation*."
      ]
    },
    {
      "cell_type": "code",
      "execution_count": 2,
      "metadata": {
        "colab": {
          "base_uri": "https://localhost:8080/",
          "height": 206
        },
        "id": "NuurHQERruxL",
        "outputId": "31cf0be1-35c8-4603-aeed-68fe37acaca8"
      },
      "outputs": [
        {
          "output_type": "execute_result",
          "data": {
            "text/plain": [
              "   day  parent_sleep  baby_sleep  parent_grumpy\n",
              "0    1          7.59       10.18             56\n",
              "1    2          7.91       11.66             60\n",
              "2    3          5.14        7.92             82\n",
              "3    4          7.71        9.61             55\n",
              "4    5          6.68        9.75             67"
            ],
            "text/html": [
              "\n",
              "  <div id=\"df-b8065986-4ee5-4517-ae45-4438523e8667\" class=\"colab-df-container\">\n",
              "    <div>\n",
              "<style scoped>\n",
              "    .dataframe tbody tr th:only-of-type {\n",
              "        vertical-align: middle;\n",
              "    }\n",
              "\n",
              "    .dataframe tbody tr th {\n",
              "        vertical-align: top;\n",
              "    }\n",
              "\n",
              "    .dataframe thead th {\n",
              "        text-align: right;\n",
              "    }\n",
              "</style>\n",
              "<table border=\"1\" class=\"dataframe\">\n",
              "  <thead>\n",
              "    <tr style=\"text-align: right;\">\n",
              "      <th></th>\n",
              "      <th>day</th>\n",
              "      <th>parent_sleep</th>\n",
              "      <th>baby_sleep</th>\n",
              "      <th>parent_grumpy</th>\n",
              "    </tr>\n",
              "  </thead>\n",
              "  <tbody>\n",
              "    <tr>\n",
              "      <th>0</th>\n",
              "      <td>1</td>\n",
              "      <td>7.59</td>\n",
              "      <td>10.18</td>\n",
              "      <td>56</td>\n",
              "    </tr>\n",
              "    <tr>\n",
              "      <th>1</th>\n",
              "      <td>2</td>\n",
              "      <td>7.91</td>\n",
              "      <td>11.66</td>\n",
              "      <td>60</td>\n",
              "    </tr>\n",
              "    <tr>\n",
              "      <th>2</th>\n",
              "      <td>3</td>\n",
              "      <td>5.14</td>\n",
              "      <td>7.92</td>\n",
              "      <td>82</td>\n",
              "    </tr>\n",
              "    <tr>\n",
              "      <th>3</th>\n",
              "      <td>4</td>\n",
              "      <td>7.71</td>\n",
              "      <td>9.61</td>\n",
              "      <td>55</td>\n",
              "    </tr>\n",
              "    <tr>\n",
              "      <th>4</th>\n",
              "      <td>5</td>\n",
              "      <td>6.68</td>\n",
              "      <td>9.75</td>\n",
              "      <td>67</td>\n",
              "    </tr>\n",
              "  </tbody>\n",
              "</table>\n",
              "</div>\n",
              "    <div class=\"colab-df-buttons\">\n",
              "\n",
              "  <div class=\"colab-df-container\">\n",
              "    <button class=\"colab-df-convert\" onclick=\"convertToInteractive('df-b8065986-4ee5-4517-ae45-4438523e8667')\"\n",
              "            title=\"Convert this dataframe to an interactive table.\"\n",
              "            style=\"display:none;\">\n",
              "\n",
              "  <svg xmlns=\"http://www.w3.org/2000/svg\" height=\"24px\" viewBox=\"0 -960 960 960\">\n",
              "    <path d=\"M120-120v-720h720v720H120Zm60-500h600v-160H180v160Zm220 220h160v-160H400v160Zm0 220h160v-160H400v160ZM180-400h160v-160H180v160Zm440 0h160v-160H620v160ZM180-180h160v-160H180v160Zm440 0h160v-160H620v160Z\"/>\n",
              "  </svg>\n",
              "    </button>\n",
              "\n",
              "  <style>\n",
              "    .colab-df-container {\n",
              "      display:flex;\n",
              "      gap: 12px;\n",
              "    }\n",
              "\n",
              "    .colab-df-convert {\n",
              "      background-color: #E8F0FE;\n",
              "      border: none;\n",
              "      border-radius: 50%;\n",
              "      cursor: pointer;\n",
              "      display: none;\n",
              "      fill: #1967D2;\n",
              "      height: 32px;\n",
              "      padding: 0 0 0 0;\n",
              "      width: 32px;\n",
              "    }\n",
              "\n",
              "    .colab-df-convert:hover {\n",
              "      background-color: #E2EBFA;\n",
              "      box-shadow: 0px 1px 2px rgba(60, 64, 67, 0.3), 0px 1px 3px 1px rgba(60, 64, 67, 0.15);\n",
              "      fill: #174EA6;\n",
              "    }\n",
              "\n",
              "    .colab-df-buttons div {\n",
              "      margin-bottom: 4px;\n",
              "    }\n",
              "\n",
              "    [theme=dark] .colab-df-convert {\n",
              "      background-color: #3B4455;\n",
              "      fill: #D2E3FC;\n",
              "    }\n",
              "\n",
              "    [theme=dark] .colab-df-convert:hover {\n",
              "      background-color: #434B5C;\n",
              "      box-shadow: 0px 1px 3px 1px rgba(0, 0, 0, 0.15);\n",
              "      filter: drop-shadow(0px 1px 2px rgba(0, 0, 0, 0.3));\n",
              "      fill: #FFFFFF;\n",
              "    }\n",
              "  </style>\n",
              "\n",
              "    <script>\n",
              "      const buttonEl =\n",
              "        document.querySelector('#df-b8065986-4ee5-4517-ae45-4438523e8667 button.colab-df-convert');\n",
              "      buttonEl.style.display =\n",
              "        google.colab.kernel.accessAllowed ? 'block' : 'none';\n",
              "\n",
              "      async function convertToInteractive(key) {\n",
              "        const element = document.querySelector('#df-b8065986-4ee5-4517-ae45-4438523e8667');\n",
              "        const dataTable =\n",
              "          await google.colab.kernel.invokeFunction('convertToInteractive',\n",
              "                                                    [key], {});\n",
              "        if (!dataTable) return;\n",
              "\n",
              "        const docLinkHtml = 'Like what you see? Visit the ' +\n",
              "          '<a target=\"_blank\" href=https://colab.research.google.com/notebooks/data_table.ipynb>data table notebook</a>'\n",
              "          + ' to learn more about interactive tables.';\n",
              "        element.innerHTML = '';\n",
              "        dataTable['output_type'] = 'display_data';\n",
              "        await google.colab.output.renderOutput(dataTable, element);\n",
              "        const docLink = document.createElement('div');\n",
              "        docLink.innerHTML = docLinkHtml;\n",
              "        element.appendChild(docLink);\n",
              "      }\n",
              "    </script>\n",
              "  </div>\n",
              "\n",
              "\n",
              "    <div id=\"df-29a07a8e-314a-428e-a927-14ce1b7ffd98\">\n",
              "      <button class=\"colab-df-quickchart\" onclick=\"quickchart('df-29a07a8e-314a-428e-a927-14ce1b7ffd98')\"\n",
              "                title=\"Suggest charts\"\n",
              "                style=\"display:none;\">\n",
              "\n",
              "<svg xmlns=\"http://www.w3.org/2000/svg\" height=\"24px\"viewBox=\"0 0 24 24\"\n",
              "     width=\"24px\">\n",
              "    <g>\n",
              "        <path d=\"M19 3H5c-1.1 0-2 .9-2 2v14c0 1.1.9 2 2 2h14c1.1 0 2-.9 2-2V5c0-1.1-.9-2-2-2zM9 17H7v-7h2v7zm4 0h-2V7h2v10zm4 0h-2v-4h2v4z\"/>\n",
              "    </g>\n",
              "</svg>\n",
              "      </button>\n",
              "\n",
              "<style>\n",
              "  .colab-df-quickchart {\n",
              "      --bg-color: #E8F0FE;\n",
              "      --fill-color: #1967D2;\n",
              "      --hover-bg-color: #E2EBFA;\n",
              "      --hover-fill-color: #174EA6;\n",
              "      --disabled-fill-color: #AAA;\n",
              "      --disabled-bg-color: #DDD;\n",
              "  }\n",
              "\n",
              "  [theme=dark] .colab-df-quickchart {\n",
              "      --bg-color: #3B4455;\n",
              "      --fill-color: #D2E3FC;\n",
              "      --hover-bg-color: #434B5C;\n",
              "      --hover-fill-color: #FFFFFF;\n",
              "      --disabled-bg-color: #3B4455;\n",
              "      --disabled-fill-color: #666;\n",
              "  }\n",
              "\n",
              "  .colab-df-quickchart {\n",
              "    background-color: var(--bg-color);\n",
              "    border: none;\n",
              "    border-radius: 50%;\n",
              "    cursor: pointer;\n",
              "    display: none;\n",
              "    fill: var(--fill-color);\n",
              "    height: 32px;\n",
              "    padding: 0;\n",
              "    width: 32px;\n",
              "  }\n",
              "\n",
              "  .colab-df-quickchart:hover {\n",
              "    background-color: var(--hover-bg-color);\n",
              "    box-shadow: 0 1px 2px rgba(60, 64, 67, 0.3), 0 1px 3px 1px rgba(60, 64, 67, 0.15);\n",
              "    fill: var(--button-hover-fill-color);\n",
              "  }\n",
              "\n",
              "  .colab-df-quickchart-complete:disabled,\n",
              "  .colab-df-quickchart-complete:disabled:hover {\n",
              "    background-color: var(--disabled-bg-color);\n",
              "    fill: var(--disabled-fill-color);\n",
              "    box-shadow: none;\n",
              "  }\n",
              "\n",
              "  .colab-df-spinner {\n",
              "    border: 2px solid var(--fill-color);\n",
              "    border-color: transparent;\n",
              "    border-bottom-color: var(--fill-color);\n",
              "    animation:\n",
              "      spin 1s steps(1) infinite;\n",
              "  }\n",
              "\n",
              "  @keyframes spin {\n",
              "    0% {\n",
              "      border-color: transparent;\n",
              "      border-bottom-color: var(--fill-color);\n",
              "      border-left-color: var(--fill-color);\n",
              "    }\n",
              "    20% {\n",
              "      border-color: transparent;\n",
              "      border-left-color: var(--fill-color);\n",
              "      border-top-color: var(--fill-color);\n",
              "    }\n",
              "    30% {\n",
              "      border-color: transparent;\n",
              "      border-left-color: var(--fill-color);\n",
              "      border-top-color: var(--fill-color);\n",
              "      border-right-color: var(--fill-color);\n",
              "    }\n",
              "    40% {\n",
              "      border-color: transparent;\n",
              "      border-right-color: var(--fill-color);\n",
              "      border-top-color: var(--fill-color);\n",
              "    }\n",
              "    60% {\n",
              "      border-color: transparent;\n",
              "      border-right-color: var(--fill-color);\n",
              "    }\n",
              "    80% {\n",
              "      border-color: transparent;\n",
              "      border-right-color: var(--fill-color);\n",
              "      border-bottom-color: var(--fill-color);\n",
              "    }\n",
              "    90% {\n",
              "      border-color: transparent;\n",
              "      border-bottom-color: var(--fill-color);\n",
              "    }\n",
              "  }\n",
              "</style>\n",
              "\n",
              "      <script>\n",
              "        async function quickchart(key) {\n",
              "          const quickchartButtonEl =\n",
              "            document.querySelector('#' + key + ' button');\n",
              "          quickchartButtonEl.disabled = true;  // To prevent multiple clicks.\n",
              "          quickchartButtonEl.classList.add('colab-df-spinner');\n",
              "          try {\n",
              "            const charts = await google.colab.kernel.invokeFunction(\n",
              "                'suggestCharts', [key], {});\n",
              "          } catch (error) {\n",
              "            console.error('Error during call to suggestCharts:', error);\n",
              "          }\n",
              "          quickchartButtonEl.classList.remove('colab-df-spinner');\n",
              "          quickchartButtonEl.classList.add('colab-df-quickchart-complete');\n",
              "        }\n",
              "        (() => {\n",
              "          let quickchartButtonEl =\n",
              "            document.querySelector('#df-29a07a8e-314a-428e-a927-14ce1b7ffd98 button');\n",
              "          quickchartButtonEl.style.display =\n",
              "            google.colab.kernel.accessAllowed ? 'block' : 'none';\n",
              "        })();\n",
              "      </script>\n",
              "    </div>\n",
              "\n",
              "    </div>\n",
              "  </div>\n"
            ],
            "application/vnd.google.colaboratory.intrinsic+json": {
              "type": "dataframe",
              "variable_name": "df",
              "summary": "{\n  \"name\": \"df\",\n  \"rows\": 100,\n  \"fields\": [\n    {\n      \"column\": \"day\",\n      \"properties\": {\n        \"dtype\": \"number\",\n        \"std\": 29,\n        \"min\": 1,\n        \"max\": 100,\n        \"num_unique_values\": 100,\n        \"samples\": [\n          84,\n          54,\n          71\n        ],\n        \"semantic_type\": \"\",\n        \"description\": \"\"\n      }\n    },\n    {\n      \"column\": \"parent_sleep\",\n      \"properties\": {\n        \"dtype\": \"number\",\n        \"std\": 1.0158844283269488,\n        \"min\": 4.84,\n        \"max\": 9.0,\n        \"num_unique_values\": 90,\n        \"samples\": [\n          7.47,\n          6.86,\n          6.22\n        ],\n        \"semantic_type\": \"\",\n        \"description\": \"\"\n      }\n    },\n    {\n      \"column\": \"baby_sleep\",\n      \"properties\": {\n        \"dtype\": \"number\",\n        \"std\": 2.0742318427248527,\n        \"min\": 3.25,\n        \"max\": 12.07,\n        \"num_unique_values\": 88,\n        \"samples\": [\n          9.09,\n          10.18,\n          7.95\n        ],\n        \"semantic_type\": \"\",\n        \"description\": \"\"\n      }\n    },\n    {\n      \"column\": \"parent_grumpy\",\n      \"properties\": {\n        \"dtype\": \"number\",\n        \"std\": 10,\n        \"min\": 41,\n        \"max\": 91,\n        \"num_unique_values\": 37,\n        \"samples\": [\n          59,\n          52,\n          67\n        ],\n        \"semantic_type\": \"\",\n        \"description\": \"\"\n      }\n    }\n  ]\n}"
            }
          },
          "metadata": {},
          "execution_count": 2
        }
      ],
      "source": [
        "import pandas as pd\n",
        "\n",
        "df = pd.read_csv('https://raw.githubusercontent.com/sgeinitz/CS3120/main/lab1_data_parenthood.csv')\n",
        "df.head()"
      ]
    },
    {
      "cell_type": "markdown",
      "metadata": {
        "id": "gaCrlzJcruxL"
      },
      "source": [
        "For this dataset one observation consists of the following fields or columns:\n",
        "\n",
        "* `day` - the day of the baby's life and the day that the observation was made  \n",
        "* `parent_sleep` - number of hours of sleep the parent had the night before this day\n",
        "* `baby_sleep` - number of hours of sleep the baby had the night before this day\n",
        "* `parent_grumpy` - level of grumpiness of the parent on this day (this will be our `Y`, or what we will want to try to predict)\n",
        "\n",
        "To confirm that information, or if we didnt' know it ahead of time, we could use the pandas dataframe method, `describe`, to see some descriptive statistics for each column."
      ]
    },
    {
      "cell_type": "code",
      "execution_count": 3,
      "metadata": {
        "colab": {
          "base_uri": "https://localhost:8080/",
          "height": 300
        },
        "id": "-T1f_h9eruxL",
        "outputId": "edeab78a-214b-4fb4-90ed-591d920db4cd"
      },
      "outputs": [
        {
          "output_type": "execute_result",
          "data": {
            "text/plain": [
              "              day  parent_sleep  baby_sleep  parent_grumpy\n",
              "count  100.000000    100.000000  100.000000      100.00000\n",
              "mean    50.500000      6.965200    8.049200       63.71000\n",
              "std     29.011492      1.015884    2.074232       10.04967\n",
              "min      1.000000      4.840000    3.250000       41.00000\n",
              "25%     25.750000      6.292500    6.425000       57.00000\n",
              "50%     50.500000      7.030000    7.950000       62.00000\n",
              "75%     75.250000      7.740000    9.635000       71.00000\n",
              "max    100.000000      9.000000   12.070000       91.00000"
            ],
            "text/html": [
              "\n",
              "  <div id=\"df-43242a99-42aa-4938-b1a5-84cc608281f8\" class=\"colab-df-container\">\n",
              "    <div>\n",
              "<style scoped>\n",
              "    .dataframe tbody tr th:only-of-type {\n",
              "        vertical-align: middle;\n",
              "    }\n",
              "\n",
              "    .dataframe tbody tr th {\n",
              "        vertical-align: top;\n",
              "    }\n",
              "\n",
              "    .dataframe thead th {\n",
              "        text-align: right;\n",
              "    }\n",
              "</style>\n",
              "<table border=\"1\" class=\"dataframe\">\n",
              "  <thead>\n",
              "    <tr style=\"text-align: right;\">\n",
              "      <th></th>\n",
              "      <th>day</th>\n",
              "      <th>parent_sleep</th>\n",
              "      <th>baby_sleep</th>\n",
              "      <th>parent_grumpy</th>\n",
              "    </tr>\n",
              "  </thead>\n",
              "  <tbody>\n",
              "    <tr>\n",
              "      <th>count</th>\n",
              "      <td>100.000000</td>\n",
              "      <td>100.000000</td>\n",
              "      <td>100.000000</td>\n",
              "      <td>100.00000</td>\n",
              "    </tr>\n",
              "    <tr>\n",
              "      <th>mean</th>\n",
              "      <td>50.500000</td>\n",
              "      <td>6.965200</td>\n",
              "      <td>8.049200</td>\n",
              "      <td>63.71000</td>\n",
              "    </tr>\n",
              "    <tr>\n",
              "      <th>std</th>\n",
              "      <td>29.011492</td>\n",
              "      <td>1.015884</td>\n",
              "      <td>2.074232</td>\n",
              "      <td>10.04967</td>\n",
              "    </tr>\n",
              "    <tr>\n",
              "      <th>min</th>\n",
              "      <td>1.000000</td>\n",
              "      <td>4.840000</td>\n",
              "      <td>3.250000</td>\n",
              "      <td>41.00000</td>\n",
              "    </tr>\n",
              "    <tr>\n",
              "      <th>25%</th>\n",
              "      <td>25.750000</td>\n",
              "      <td>6.292500</td>\n",
              "      <td>6.425000</td>\n",
              "      <td>57.00000</td>\n",
              "    </tr>\n",
              "    <tr>\n",
              "      <th>50%</th>\n",
              "      <td>50.500000</td>\n",
              "      <td>7.030000</td>\n",
              "      <td>7.950000</td>\n",
              "      <td>62.00000</td>\n",
              "    </tr>\n",
              "    <tr>\n",
              "      <th>75%</th>\n",
              "      <td>75.250000</td>\n",
              "      <td>7.740000</td>\n",
              "      <td>9.635000</td>\n",
              "      <td>71.00000</td>\n",
              "    </tr>\n",
              "    <tr>\n",
              "      <th>max</th>\n",
              "      <td>100.000000</td>\n",
              "      <td>9.000000</td>\n",
              "      <td>12.070000</td>\n",
              "      <td>91.00000</td>\n",
              "    </tr>\n",
              "  </tbody>\n",
              "</table>\n",
              "</div>\n",
              "    <div class=\"colab-df-buttons\">\n",
              "\n",
              "  <div class=\"colab-df-container\">\n",
              "    <button class=\"colab-df-convert\" onclick=\"convertToInteractive('df-43242a99-42aa-4938-b1a5-84cc608281f8')\"\n",
              "            title=\"Convert this dataframe to an interactive table.\"\n",
              "            style=\"display:none;\">\n",
              "\n",
              "  <svg xmlns=\"http://www.w3.org/2000/svg\" height=\"24px\" viewBox=\"0 -960 960 960\">\n",
              "    <path d=\"M120-120v-720h720v720H120Zm60-500h600v-160H180v160Zm220 220h160v-160H400v160Zm0 220h160v-160H400v160ZM180-400h160v-160H180v160Zm440 0h160v-160H620v160ZM180-180h160v-160H180v160Zm440 0h160v-160H620v160Z\"/>\n",
              "  </svg>\n",
              "    </button>\n",
              "\n",
              "  <style>\n",
              "    .colab-df-container {\n",
              "      display:flex;\n",
              "      gap: 12px;\n",
              "    }\n",
              "\n",
              "    .colab-df-convert {\n",
              "      background-color: #E8F0FE;\n",
              "      border: none;\n",
              "      border-radius: 50%;\n",
              "      cursor: pointer;\n",
              "      display: none;\n",
              "      fill: #1967D2;\n",
              "      height: 32px;\n",
              "      padding: 0 0 0 0;\n",
              "      width: 32px;\n",
              "    }\n",
              "\n",
              "    .colab-df-convert:hover {\n",
              "      background-color: #E2EBFA;\n",
              "      box-shadow: 0px 1px 2px rgba(60, 64, 67, 0.3), 0px 1px 3px 1px rgba(60, 64, 67, 0.15);\n",
              "      fill: #174EA6;\n",
              "    }\n",
              "\n",
              "    .colab-df-buttons div {\n",
              "      margin-bottom: 4px;\n",
              "    }\n",
              "\n",
              "    [theme=dark] .colab-df-convert {\n",
              "      background-color: #3B4455;\n",
              "      fill: #D2E3FC;\n",
              "    }\n",
              "\n",
              "    [theme=dark] .colab-df-convert:hover {\n",
              "      background-color: #434B5C;\n",
              "      box-shadow: 0px 1px 3px 1px rgba(0, 0, 0, 0.15);\n",
              "      filter: drop-shadow(0px 1px 2px rgba(0, 0, 0, 0.3));\n",
              "      fill: #FFFFFF;\n",
              "    }\n",
              "  </style>\n",
              "\n",
              "    <script>\n",
              "      const buttonEl =\n",
              "        document.querySelector('#df-43242a99-42aa-4938-b1a5-84cc608281f8 button.colab-df-convert');\n",
              "      buttonEl.style.display =\n",
              "        google.colab.kernel.accessAllowed ? 'block' : 'none';\n",
              "\n",
              "      async function convertToInteractive(key) {\n",
              "        const element = document.querySelector('#df-43242a99-42aa-4938-b1a5-84cc608281f8');\n",
              "        const dataTable =\n",
              "          await google.colab.kernel.invokeFunction('convertToInteractive',\n",
              "                                                    [key], {});\n",
              "        if (!dataTable) return;\n",
              "\n",
              "        const docLinkHtml = 'Like what you see? Visit the ' +\n",
              "          '<a target=\"_blank\" href=https://colab.research.google.com/notebooks/data_table.ipynb>data table notebook</a>'\n",
              "          + ' to learn more about interactive tables.';\n",
              "        element.innerHTML = '';\n",
              "        dataTable['output_type'] = 'display_data';\n",
              "        await google.colab.output.renderOutput(dataTable, element);\n",
              "        const docLink = document.createElement('div');\n",
              "        docLink.innerHTML = docLinkHtml;\n",
              "        element.appendChild(docLink);\n",
              "      }\n",
              "    </script>\n",
              "  </div>\n",
              "\n",
              "\n",
              "    <div id=\"df-2c1362b8-a536-4825-821d-51fb6de1ca97\">\n",
              "      <button class=\"colab-df-quickchart\" onclick=\"quickchart('df-2c1362b8-a536-4825-821d-51fb6de1ca97')\"\n",
              "                title=\"Suggest charts\"\n",
              "                style=\"display:none;\">\n",
              "\n",
              "<svg xmlns=\"http://www.w3.org/2000/svg\" height=\"24px\"viewBox=\"0 0 24 24\"\n",
              "     width=\"24px\">\n",
              "    <g>\n",
              "        <path d=\"M19 3H5c-1.1 0-2 .9-2 2v14c0 1.1.9 2 2 2h14c1.1 0 2-.9 2-2V5c0-1.1-.9-2-2-2zM9 17H7v-7h2v7zm4 0h-2V7h2v10zm4 0h-2v-4h2v4z\"/>\n",
              "    </g>\n",
              "</svg>\n",
              "      </button>\n",
              "\n",
              "<style>\n",
              "  .colab-df-quickchart {\n",
              "      --bg-color: #E8F0FE;\n",
              "      --fill-color: #1967D2;\n",
              "      --hover-bg-color: #E2EBFA;\n",
              "      --hover-fill-color: #174EA6;\n",
              "      --disabled-fill-color: #AAA;\n",
              "      --disabled-bg-color: #DDD;\n",
              "  }\n",
              "\n",
              "  [theme=dark] .colab-df-quickchart {\n",
              "      --bg-color: #3B4455;\n",
              "      --fill-color: #D2E3FC;\n",
              "      --hover-bg-color: #434B5C;\n",
              "      --hover-fill-color: #FFFFFF;\n",
              "      --disabled-bg-color: #3B4455;\n",
              "      --disabled-fill-color: #666;\n",
              "  }\n",
              "\n",
              "  .colab-df-quickchart {\n",
              "    background-color: var(--bg-color);\n",
              "    border: none;\n",
              "    border-radius: 50%;\n",
              "    cursor: pointer;\n",
              "    display: none;\n",
              "    fill: var(--fill-color);\n",
              "    height: 32px;\n",
              "    padding: 0;\n",
              "    width: 32px;\n",
              "  }\n",
              "\n",
              "  .colab-df-quickchart:hover {\n",
              "    background-color: var(--hover-bg-color);\n",
              "    box-shadow: 0 1px 2px rgba(60, 64, 67, 0.3), 0 1px 3px 1px rgba(60, 64, 67, 0.15);\n",
              "    fill: var(--button-hover-fill-color);\n",
              "  }\n",
              "\n",
              "  .colab-df-quickchart-complete:disabled,\n",
              "  .colab-df-quickchart-complete:disabled:hover {\n",
              "    background-color: var(--disabled-bg-color);\n",
              "    fill: var(--disabled-fill-color);\n",
              "    box-shadow: none;\n",
              "  }\n",
              "\n",
              "  .colab-df-spinner {\n",
              "    border: 2px solid var(--fill-color);\n",
              "    border-color: transparent;\n",
              "    border-bottom-color: var(--fill-color);\n",
              "    animation:\n",
              "      spin 1s steps(1) infinite;\n",
              "  }\n",
              "\n",
              "  @keyframes spin {\n",
              "    0% {\n",
              "      border-color: transparent;\n",
              "      border-bottom-color: var(--fill-color);\n",
              "      border-left-color: var(--fill-color);\n",
              "    }\n",
              "    20% {\n",
              "      border-color: transparent;\n",
              "      border-left-color: var(--fill-color);\n",
              "      border-top-color: var(--fill-color);\n",
              "    }\n",
              "    30% {\n",
              "      border-color: transparent;\n",
              "      border-left-color: var(--fill-color);\n",
              "      border-top-color: var(--fill-color);\n",
              "      border-right-color: var(--fill-color);\n",
              "    }\n",
              "    40% {\n",
              "      border-color: transparent;\n",
              "      border-right-color: var(--fill-color);\n",
              "      border-top-color: var(--fill-color);\n",
              "    }\n",
              "    60% {\n",
              "      border-color: transparent;\n",
              "      border-right-color: var(--fill-color);\n",
              "    }\n",
              "    80% {\n",
              "      border-color: transparent;\n",
              "      border-right-color: var(--fill-color);\n",
              "      border-bottom-color: var(--fill-color);\n",
              "    }\n",
              "    90% {\n",
              "      border-color: transparent;\n",
              "      border-bottom-color: var(--fill-color);\n",
              "    }\n",
              "  }\n",
              "</style>\n",
              "\n",
              "      <script>\n",
              "        async function quickchart(key) {\n",
              "          const quickchartButtonEl =\n",
              "            document.querySelector('#' + key + ' button');\n",
              "          quickchartButtonEl.disabled = true;  // To prevent multiple clicks.\n",
              "          quickchartButtonEl.classList.add('colab-df-spinner');\n",
              "          try {\n",
              "            const charts = await google.colab.kernel.invokeFunction(\n",
              "                'suggestCharts', [key], {});\n",
              "          } catch (error) {\n",
              "            console.error('Error during call to suggestCharts:', error);\n",
              "          }\n",
              "          quickchartButtonEl.classList.remove('colab-df-spinner');\n",
              "          quickchartButtonEl.classList.add('colab-df-quickchart-complete');\n",
              "        }\n",
              "        (() => {\n",
              "          let quickchartButtonEl =\n",
              "            document.querySelector('#df-2c1362b8-a536-4825-821d-51fb6de1ca97 button');\n",
              "          quickchartButtonEl.style.display =\n",
              "            google.colab.kernel.accessAllowed ? 'block' : 'none';\n",
              "        })();\n",
              "      </script>\n",
              "    </div>\n",
              "\n",
              "    </div>\n",
              "  </div>\n"
            ],
            "application/vnd.google.colaboratory.intrinsic+json": {
              "type": "dataframe",
              "summary": "{\n  \"name\": \"df\",\n  \"rows\": 8,\n  \"fields\": [\n    {\n      \"column\": \"day\",\n      \"properties\": {\n        \"dtype\": \"number\",\n        \"std\": 35.736237144555226,\n        \"min\": 1.0,\n        \"max\": 100.0,\n        \"num_unique_values\": 6,\n        \"samples\": [\n          100.0,\n          50.5,\n          75.25\n        ],\n        \"semantic_type\": \"\",\n        \"description\": \"\"\n      }\n    },\n    {\n      \"column\": \"parent_sleep\",\n      \"properties\": {\n        \"dtype\": \"number\",\n        \"std\": 33.275754474812146,\n        \"min\": 1.0158844283269488,\n        \"max\": 100.0,\n        \"num_unique_values\": 8,\n        \"samples\": [\n          6.965199999999999,\n          7.03,\n          100.0\n        ],\n        \"semantic_type\": \"\",\n        \"description\": \"\"\n      }\n    },\n    {\n      \"column\": \"baby_sleep\",\n      \"properties\": {\n        \"dtype\": \"number\",\n        \"std\": 33.01647807682308,\n        \"min\": 2.0742318427248527,\n        \"max\": 100.0,\n        \"num_unique_values\": 8,\n        \"samples\": [\n          8.049199999999999,\n          7.95,\n          100.0\n        ],\n        \"semantic_type\": \"\",\n        \"description\": \"\"\n      }\n    },\n    {\n      \"column\": \"parent_grumpy\",\n      \"properties\": {\n        \"dtype\": \"number\",\n        \"std\": 28.116476387973886,\n        \"min\": 10.049669575954157,\n        \"max\": 100.0,\n        \"num_unique_values\": 8,\n        \"samples\": [\n          63.71,\n          62.0,\n          100.0\n        ],\n        \"semantic_type\": \"\",\n        \"description\": \"\"\n      }\n    }\n  ]\n}"
            }
          },
          "metadata": {},
          "execution_count": 3
        }
      ],
      "source": [
        "df.describe()"
      ]
    },
    {
      "cell_type": "markdown",
      "metadata": {
        "id": "etBPsnBdruxL"
      },
      "source": [
        "***\n",
        "### Q1: What does the column `parent_grumpy` look like? What is it's mean? What is it's minimum value? Maximum value? Based on all of that, what do you think the scale of grumpiness is? Is it between 1 and 10? Between -1 and 1?\n",
        "\n",
        "|Attribute|Value/Range|\n",
        "|-|-|\n",
        "|**Mean:**|63.71000|\n",
        "|**Minimum:**|41.00000|\n",
        "|**Maximum:**|91.00000|\n",
        "|**Grumpiness Scale:**|0-100|\n",
        "***"
      ]
    },
    {
      "cell_type": "markdown",
      "metadata": {
        "id": "8pwLoi1WruxL"
      },
      "source": [
        "Next, let's look at if or how the columns are related to one another. There are descriptive statistics that we can calculate to do this but typically it's best to simply look at the data and see what it looks like.\n",
        "\n",
        "We'll use the Python module [seaborn](https://seaborn.pydata.org), which is for plotting and visualizing data."
      ]
    },
    {
      "cell_type": "code",
      "execution_count": 4,
      "metadata": {
        "colab": {
          "base_uri": "https://localhost:8080/",
          "height": 466
        },
        "id": "4sgyZABVruxL",
        "outputId": "2b4b65d6-8561-4806-9dec-a54d8f37ee09"
      },
      "outputs": [
        {
          "output_type": "execute_result",
          "data": {
            "text/plain": [
              "<Axes: xlabel='day', ylabel='parent_grumpy'>"
            ]
          },
          "metadata": {},
          "execution_count": 4
        },
        {
          "output_type": "display_data",
          "data": {
            "text/plain": [
              "<Figure size 640x480 with 1 Axes>"
            ],
            "image/png": "[encoded data removed]"
          },
          "metadata": {}
        }
      ],
      "source": [
        "import seaborn as sns\n",
        "\n",
        "sns.scatterplot(data=df, x='day', y='parent_grumpy')"
      ]
    },
    {
      "cell_type": "markdown",
      "metadata": {
        "id": "OfDSNG-LruxL"
      },
      "source": [
        "***\n",
        "### Q2: Does there appear to be a relationship of any kind between day and how grumpy the parent is? In other words, does a parent's level of grumpiness get better or worse in the first 100 days of baby's life? Is there any type of pattern in how these two variables are related?\n",
        "\n",
        "Only observing 'day' and 'parent_grumpy', there isn't much to be said for a relationship between the two. There is some grouping around day 70 woth a ~60 leve of grumpiness, so maybe you can assume there was something there specifically not representded in the current data to point to that. The same can be said for the two days around ~90 for grumpiness, but with what we're shown, I cannot find any specific corelations.\n",
        "***"
      ]
    },
    {
      "cell_type": "markdown",
      "metadata": {
        "id": "P_DKqbIMruxL"
      },
      "source": [
        "Next, let's look at the other fields versus a parent's level of grumpiness. Note that we'll now use the other common Python module for plotting and visualization, matplotlib. This module is lower-level than seaborn which allows us to create multiple plots side by side, and manipulate other small details of plots."
      ]
    },
    {
      "cell_type": "code",
      "execution_count": 9,
      "metadata": {
        "colab": {
          "base_uri": "https://localhost:8080/",
          "height": 388
        },
        "id": "bg918RQVruxL",
        "outputId": "274e884f-0389-4c32-b78e-b9d7aa2b52f5"
      },
      "outputs": [
        {
          "output_type": "display_data",
          "data": {
            "text/plain": [
              "<Figure size 1000x400 with 2 Axes>"
            ],
            "image/png": "[encoded data removed]"
          },
          "metadata": {}
        }
      ],
      "source": [
        "import matplotlib.pyplot as plt\n",
        "\n",
        "#fig, (ax1, ax2, ax3) = plt.subplots(1, 3, figsize=(12, 4))\n",
        "fig, (ax1, ax2) = plt.subplots(1, 2, figsize=(10, 4))\n",
        "sns.scatterplot(data=df, x='baby_sleep', y='parent_grumpy', ax=ax1)\n",
        "sns.scatterplot(data=df, x='parent_sleep', y='parent_grumpy', ax=ax2, color='red')\n",
        "#sns.scatterplot(data=df, x='baby_sleep', y='parent_sleep', ax=ax3, color='red')\n",
        "plt.show()"
      ]
    },
    {
      "cell_type": "markdown",
      "metadata": {
        "id": "aARlhHLTruxL"
      },
      "source": [
        "***\n",
        "### Q3: What is the relationship that seems more important here? In other words, which do you think is a more direct cause of a parent being grumpy?\n",
        "\n",
        "The relationship between **'parent_sleep' and 'parent_grumpy'** is stronger than the relationship between **'baby_sleep' and 'parent_grumpy'**. This is shown by tighter grouping of points in the **'parent_sleep' vs. 'parent_grumpy'** table.\n",
        "\n",
        "***"
      ]
    },
    {
      "cell_type": "markdown",
      "metadata": {
        "id": "D88iulQiruxL"
      },
      "source": [
        "## Simple Linear Regression\n",
        "\n",
        "There is a lot more that could be discussed about which variable drives what, in what order, etc. For now though, let's go ahead and begin fitting a linear regression. As we've seen, simple linear regression is an approach for predicting a **quantitative response** using a **single feature** (or \"predictor\" or \"input variable\"). It takes the following form:\n",
        "\n",
        "$y = \\beta_0 + \\beta_1x \\quad $ or $ \\quad y = b + w x$\n",
        "\n",
        "What does each term represent?\n",
        "- $y$ is the response\n",
        "- $x$ is the feature\n",
        "- $\\beta_0$ is the y-intercept of the line, which we could also call the **bias** parameter, $b$\n",
        "- $\\beta_1$ is the slope of the line or coefficient for x, which we could also call the **weight** parameter, $w$\n",
        "\n",
        "Together, $\\beta_0$ and $\\beta_1$, or $b$ and $w$ are called the **model coefficients**, or **parameters** of the model. To train or fit the model it must \"learn\" the values of these parameters. Once we've learned these coefficients, we can use the model to make predictions!"
      ]
    },
    {
      "cell_type": "markdown",
      "metadata": {
        "id": "kzZfksj3ruxL"
      },
      "source": [
        "What do you mean by \"learn\"?  Well you are probably more familiar with the phrase \"fit\" meaning we adjust the settings of the model coefficients (aka as parameters) until the line seems like a good summary of the data.  Fitting thus mean adjusting some internal numbers so that they better reflect the underlying data set.  Well when a human (or machine) learns it, it is in some sense of the same thing.  We change the connections of the weights (or parameters) inside our brains to help us better predict our environment.  For instance if your roommate is prone to late night partying and being grumpy the next day you might mentally fit a model to the experiences you have and \"learn\" what features are predictive of them being grumpy.  So basically fitting a linear regression model is the same as doing basic machine learning! Wow!\n",
        "\n",
        "Before we get into using the computer to \"fit\" our data, let's start simple and do things by hand. Try adjusting the sliders below to get to what you think is a good model fit. As mentioned in class, getting roughly half of the points above the line and half below the line is ideally what we want."
      ]
    },
    {
      "cell_type": "code",
      "execution_count": 10,
      "metadata": {
        "colab": {
          "base_uri": "https://localhost:8080/",
          "height": 606,
          "referenced_widgets": [
            "14bf55c38c204fcf98bd2ef33296dd49",
            "06171747789f4eb3a67aab4c8b1109c6",
            "7790295c19d8478fa4b5c71a04c51a5a",
            "07c48d6b8ec547a8924e7f358ff802e4",
            "8c84d2f09fde4a629b25b817511cb9b2",
            "49fd18f8fe494fc98684520868f1c35b",
            "ae599ebaf7c5479f8b9d3f33178e2226",
            "978efa1075e74e36a6549dce92da9ab6",
            "e5482fc680a746df92fdec10fa0949e9",
            "8301fa6ecce848358b8785d3e12ff840"
          ]
        },
        "id": "LWwRiXJrruxL",
        "outputId": "b38d9c84-e26a-4583-a657-1ec37b090e11"
      },
      "outputs": [
        {
          "output_type": "display_data",
          "data": {
            "text/plain": [
              "interactive(children=(IntSlider(value=0, description='slope', max=20, min=-20), IntSlider(value=50, descriptio…"
            ],
            "application/vnd.jupyter.widget-view+json": {
              "version_major": 2,
              "version_minor": 0,
              "model_id": "14bf55c38c204fcf98bd2ef33296dd49"
            }
          },
          "metadata": {}
        }
      ],
      "source": [
        "from IPython.core.display import HTML, Markdown\n",
        "import ipywidgets as widgets\n",
        "import numpy as np\n",
        "\n",
        "@widgets.interact(slope=widgets.IntSlider(min=-20, max=20, step=1, value=0), intercept=widgets.IntSlider(min=0, max=200, step=1, value=50))\n",
        "def plot_grumpiness(slope, intercept):\n",
        "    predict = intercept + slope * df.parent_sleep\n",
        "    resid = df.parent_grumpy - predict\n",
        "    fig, ax = plt.subplots(figsize=(9,6))\n",
        "\n",
        "    x1 = np.linspace(df.parent_sleep.min(), df.parent_sleep.max(), 400)\n",
        "    y1 = intercept + slope * x1\n",
        "\n",
        "    ax.plot(df.parent_sleep, df.parent_grumpy, 'ko', markersize=4)\n",
        "\n",
        "    ax.plot(x1, y1, '-', color='steelblue', linewidth=1)\n",
        "    plt.xlabel(\"dad sleep\")\n",
        "    plt.ylabel(\"dad grumpy level\")\n",
        "\n",
        "    plt.show()\n"
      ]
    },
    {
      "cell_type": "markdown",
      "metadata": {
        "id": "t2nQzGM0ruxL"
      },
      "source": [
        "If you used the approach of getting half of the points above the line and half below the line, you probably realized that there are several different ways to acheive this - not all of which make sense. That's why we instead think about fitting a regression model as minimizing all **residuals**. A residual is defined as the difference between the the observation $y$ and the prediction $\\hat{y}$.\n",
        "\n",
        "Specifically, the **residual for the $i^{th}$ observation** in the data is defined as:\n",
        "* $y_i - \\hat{y}_i$\n",
        "\n",
        "The next plot shows what are known as the **residuals** between the actual data points (black) and the regression line (blue). As you can see the total amount of red changes depending on how good of a fit your parameter values give you. Use this widget to make your own *guesstimate* of what the values of $\\beta_0$ and $\\beta_1$ should be.\n"
      ]
    },
    {
      "cell_type": "code",
      "execution_count": 11,
      "metadata": {
        "colab": {
          "base_uri": "https://localhost:8080/",
          "height": 606,
          "referenced_widgets": [
            "2050ca1645124dd58b7c12ce1735cc10",
            "fae6d332e4414aa09885d9d16ec4b60d",
            "158a57dff0d94cbea56f0e57d616387c",
            "48e482bb1d5b44c0acf4b954bca0c398",
            "a674ce9383474f1b9703c78f0ccb358b",
            "d361917c7a3c4ba9aec32f5dd5bd882d",
            "90988323fc9a4b6cb91e53a4ee370e7c",
            "b65ac868fcf5434385d96c52103bded6",
            "a3988b538c4b46c9998e47ce7ad1ac73",
            "3be4e48674c44fbbaa3b2787963eee17"
          ]
        },
        "id": "O71zsM2mruxM",
        "outputId": "92742abe-a223-4e60-f927-91bea6a5a7eb"
      },
      "outputs": [
        {
          "output_type": "display_data",
          "data": {
            "text/plain": [
              "interactive(children=(IntSlider(value=0, description='slope', max=20, min=-20), IntSlider(value=50, descriptio…"
            ],
            "application/vnd.jupyter.widget-view+json": {
              "version_major": 2,
              "version_minor": 0,
              "model_id": "2050ca1645124dd58b7c12ce1735cc10"
            }
          },
          "metadata": {}
        }
      ],
      "source": [
        "@widgets.interact(slope=widgets.IntSlider(min=-20, max=20, step=1, value=0), intercept=widgets.IntSlider(min=0, max=200, step=1, value=50))\n",
        "def plot_grumpiness(slope, intercept):\n",
        "    predict = intercept+slope*df.parent_sleep\n",
        "    resid = df.parent_grumpy-predict\n",
        "    fig, ax = plt.subplots(figsize=(9,6))\n",
        "\n",
        "    x1 = np.linspace(df.parent_sleep.min(), df.parent_sleep.max(),400)\n",
        "    y1 = intercept+slope*x1\n",
        "\n",
        "    ax.plot(df.parent_sleep, df.parent_grumpy,'ko',markersize=4)\n",
        "    ax.plot(df.parent_sleep, df.parent_grumpy-resid,'o',markersize=4,markeredgecolor='r', markeredgewidth=.4, markerfacecolor='white')\n",
        "\n",
        "    ax.plot(x1,y1,'-',color='blue',linewidth=1)\n",
        "    plt.xlabel(\"dad sleep\")\n",
        "    plt.ylabel(\"dad grumpiness\")\n",
        "\n",
        "    ax.vlines(df.parent_sleep, df.parent_grumpy, df.parent_grumpy-resid,'r',linewidth=0.5)\n",
        "    plt.show()\n",
        "\n"
      ]
    },
    {
      "cell_type": "markdown",
      "metadata": {
        "id": "jiRKE-n8ruxM"
      },
      "source": [
        "***\n",
        "### Q4: What values of $\\beta_0$ and $\\beta_1$ result in a good model fit? Is the slope positive or negative? Explain why?\n",
        "\n",
        "$\\beta_0 = 134$\n",
        "\n",
        "$\\beta_1 = -10$\n",
        "\n",
        "The slope is negatice because it represents a negative relationship with 'dad grumpiness' and 'dad sleep' (As he gets more sleep, he's less grumpy). This is a pretty good fit since it minimizes the residuals for most of the points on the scatter plot.\n",
        "\n",
        "\n",
        "***"
      ]
    },
    {
      "cell_type": "markdown",
      "metadata": {
        "id": "XfDxUZRUruxM"
      },
      "source": [
        "## Estimating Model Coefficients (i.e. \"training\" the model)\n",
        "\n",
        "The mechanics of fitting a line to some data, or \"learning\" the model parameter values, or \"training\" the model is better done using a precise method rather than eyeballing it as you did above. Generally speaking, coefficients are estimated using the **least squares criterion**, which means we will find the line (mathematically) which minimizes the **sum of squared residuals** (or \"sum of squared errors\"). This can be summed up in the following graphic.\n",
        "\n",
        "![toyexample](https://cims.nyu.edu/~brenden/courses/labincp/_images/08_estimating_coefficients.png)\n",
        "\n",
        "In the figure above...\n",
        "- the black dots are the **observed values** of x and y,\n",
        "- the blue line is the **least squares line**,\n",
        "- the red lines are the **residuals**, which are the distances between the observed values and the least squares line.\n",
        "\n",
        "Remember, model parameters in the regression model can be interpreted as follows.\n",
        "- $\\beta_0$ is the **intercept** (the value of $y$ when $x$=0)\n",
        "- $\\beta_1$ is the **slope** (the change in $y$ divided by change in $x$)\n",
        "\n",
        "Here is a graphical depiction of those calculations:\n",
        "\n",
        "![toyexample2](https://cims.nyu.edu/~brenden/courses/labincp/_images/08_slope_intercept.png)\n"
      ]
    },
    {
      "cell_type": "markdown",
      "metadata": {
        "id": "t82CIsUzruxM"
      },
      "source": [
        "To find the best possible parameter values (i.e. to fit or train the model), we want to minimize the sum of squared errors. Note that since $\\hat{y}$ is a function of $\\beta_0$ and $\\beta_1$, then the sum of squared errors can be stated as a function of them (and then minimized). Namely, we want to minimize the following expression with respect to $\\beta_0$ and $\\beta_1$.\n",
        "\n",
        "* $\\sum_{i=1}^{n} (y_i - (\\beta_0 + \\beta_1 x_i))^2$\n",
        "\n",
        "We could manually calculate the values by minimizing the above, but let's first use the [statmodels](https://www.statsmodels.org/stable/install.html) Python package. See how these numbers compare to the values you found in your *guesstimate* above."
      ]
    },
    {
      "cell_type": "code",
      "execution_count": 12,
      "metadata": {
        "colab": {
          "base_uri": "https://localhost:8080/"
        },
        "id": "oetFB292ruxM",
        "outputId": "8390c946-7255-4d3f-8d1a-82ec00f6311f"
      },
      "outputs": [
        {
          "output_type": "stream",
          "name": "stdout",
          "text": [
            "Intercept       125.956292\n",
            "parent_sleep     -8.936756\n",
            "dtype: float64\n"
          ]
        }
      ],
      "source": [
        "import statsmodels.formula.api as smf\n",
        "\n",
        "sm_lm = smf.ols(formula='parent_grumpy ~ parent_sleep', data=df).fit()\n",
        "print(sm_lm.params)\n",
        "\n",
        "# my guess on the first set of sliders was so close! 126, and -9!"
      ]
    },
    {
      "cell_type": "markdown",
      "metadata": {
        "id": "4TK9R20hruxM"
      },
      "source": [
        "A couple of points on how we used `smf` here...\n",
        "* First is that we use the `smf.ols()` function which does an _ordinary least squares_ fit.  This is the type of fit which tries to minimize the sum of the squared residuals.  There are other types of fitting proceedures such as weighted least squares which is used when you expect the variance of the predicted variable to changes with the input predictor as well as its mean value.  We won't worry about those variations of linear regression in this class though.\n",
        "\n",
        "* Second is that we provide the `ols()` function or method with the pandas dataframe we are working with, `df`, and then provide a formula.  The formula expresses our \"_model_\" and is which variables in the data frame we are trying to relate.  Here the formula `parent_grumpy ~ parent_sleep` means that we want to predict `parent_grumpy` values given `parent_sleep` values. So you think of `parent_grumpy` as our \"_y value_\" and `parent_sleep` are our \"_x value_\".\n",
        "\n",
        "\n",
        "Although the **statsmodels** Python module is a powerful and intuitive tool for statistics, and similar to the standard libraries in R, the module that is more common among Data Scientists and Machine Learning practioners is [scikitlearn](https://scikit-learn.org/stable/). We'll use this now. Try to make a note of how the syntax is different between statsmodels and scikitlearn."
      ]
    },
    {
      "cell_type": "code",
      "execution_count": 13,
      "metadata": {
        "colab": {
          "base_uri": "https://localhost:8080/"
        },
        "id": "ajoycFqBruxM",
        "outputId": "4ca071da-8cfe-4ed3-f45b-ead5eb359cfa"
      },
      "outputs": [
        {
          "output_type": "stream",
          "name": "stdout",
          "text": [
            "[-8.93675582] 125.95629163351283\n"
          ]
        }
      ],
      "source": [
        "from sklearn import linear_model\n",
        "\n",
        "lm = linear_model.LinearRegression()\n",
        "lm.fit(df[['parent_sleep']], df['parent_grumpy'])\n",
        "print(lm.coef_, lm.intercept_)"
      ]
    },
    {
      "cell_type": "markdown",
      "metadata": {
        "id": "sXuWfbw9ruxM"
      },
      "source": [
        "It's easy to see that the values of the parameters for both models are the same, but notice the small diffences in the names of usage of them. The **statsmodel** model gives us all of the parameters in attribute `lm.params`.\n",
        "\n",
        "With `scikitlearn`, or `sklearn` above, the model has different attributes for each parameter, `lm.coef_`, `lm.intercept`. Note that `lm.coef` itself is a list though, so if our model was going to have other predictors, i.e. other X variables or inputs, then they would be added to the list, `lm.coef`."
      ]
    },
    {
      "cell_type": "markdown",
      "metadata": {
        "id": "K039CzrdruxM"
      },
      "source": [
        "## Interpreting the Model\n",
        "\n",
        "One of the biggest advantages of ordinary least squares regression is that it is highly interpretable. By this, we mean to say that it's possible to look at the model parameter values and directly draw some conclusion or interpretion from it.\n",
        "\n",
        "That is, we can directly interpret the `slope` or `weight` parameter associated with `parent_sleep`, according to its value. In this case, with a value of `-8.9`, we can say:\n",
        "\n",
        "- A one \"unit\" increase in hours of sleep is associated with a -8.9367 \"unit\" decrease (because it is negative) in grumpiness. This should kind of make sense once you think about it too, i.e. more sleep = less grumpy!\n",
        "\n",
        "The other parameter in our model, the `intercept` or `bias` term, tells us what the model would predict if `X`, or `parent_sleep` in this case, were zero (0). (You can sort understand why it is referred to a bias term also, since it's the value you would get if you didn't have any information, so it's sort of a presupposed value, or bias.)\n",
        "If `parent_sleep` is zero, then `pare\n",
        "nt_grumpy` would be predicted to be 125.95. This means that if a parent gets no sleep at all their grumpiness will be at a very high level of 125.95!  Bad news."
      ]
    },
    {
      "cell_type": "markdown",
      "metadata": {
        "id": "xwB5XuLNruxM"
      },
      "source": [
        "***\n",
        "### Q5: Suppose that the _grumpiness_ scale is between 0 and 100. How would you explain or justify the prediction the model would make if a parent did not sleep at all the night before? Or, if they slept only one hour? What does this say about the model, is it a \"good\" or \"bad\" model?\n",
        "\n",
        "Since we don't have data at the bottom range of the chart, It's not smart to make assumptions about the data there. The model can still be good as long as you are only making inferences close to the collected data.\n",
        "\n",
        "**Danger of extrapalation** pg 499. Probablility and Statistics For Engineering and the Sciences. 9th edition.\n",
        "***\n",
        "\n",
        "Note that this question is related to a famous saying in Statistics, which is \"*All models are wrong, but some are useful*\". This essentially says that every model has limitations, or is incorrect in some way, but can still make sense and yield useful results when used in the appropriate setting.\n",
        "\n",
        "![image](https://miro.medium.com/v2/resize:fit:1400/1*EJZZKiXLcbp_MxRW9HJrmA.jpeg)"
      ]
    },
    {
      "cell_type": "markdown",
      "metadata": {
        "id": "xH_mYgjiruxM"
      },
      "source": [
        "## Using the Model for Prediction\n",
        "\n",
        "Once the model has been fit or trained with the training data, we can now use it for predictions. In other words, with just the following equation it is possible to make a prediction for any new value of `x`, i.e. `parent_sleep`.\n",
        "$$y = 125.956292 + -8.936756 \\times x$$"
      ]
    },
    {
      "cell_type": "markdown",
      "metadata": {
        "id": "exrAqjLzruxM"
      },
      "source": [
        "***\n",
        "\n",
        "### Q5: Using only the trained model the parent now wants to make a prediction for tomorrow. Everything is going smooth so they antipicate getting a good night of sleep, or around `8.5` hours of sleep. What will their predicted level of grumpiness be tomorrow?\n",
        "\n",
        "returned value from snippet below: array([49.99386717])\n",
        "\n",
        "**expected level of grumpiness:** 49.99386717\n",
        "\n",
        "***"
      ]
    },
    {
      "cell_type": "code",
      "execution_count": 14,
      "metadata": {
        "colab": {
          "base_uri": "https://localhost:8080/"
        },
        "id": "ESM-k8mAruxM",
        "outputId": "033a956f-58d8-4fc2-cc06-52ab5c9085bd"
      },
      "outputs": [
        {
          "output_type": "execute_result",
          "data": {
            "text/plain": [
              "array([49.99386717])"
            ]
          },
          "metadata": {},
          "execution_count": 14
        }
      ],
      "source": [
        "hours_of_sleep = 8.5\n",
        "X_new = pd.DataFrame({'parent_sleep': [hours_of_sleep]})\n",
        "lm.predict(X_new)"
      ]
    },
    {
      "cell_type": "markdown",
      "metadata": {
        "id": "REsvpF0sruxM"
      },
      "source": [
        "## Plotting the least squares regression line\n",
        "\n",
        "Let's take a look at the best fit line.  There are two very easy ways to do this.  One is using seaborn's regplot which takes care of all of the underlying steps to plot the regression line."
      ]
    },
    {
      "cell_type": "code",
      "execution_count": 15,
      "metadata": {
        "colab": {
          "base_uri": "https://localhost:8080/",
          "height": 467
        },
        "id": "MFr_K5rkruxM",
        "outputId": "354ecd03-dbfd-4597-9d01-7e1cf02dd787"
      },
      "outputs": [
        {
          "output_type": "execute_result",
          "data": {
            "text/plain": [
              "<Axes: xlabel='parent_sleep', ylabel='parent_grumpy'>"
            ]
          },
          "metadata": {},
          "execution_count": 15
        },
        {
          "output_type": "display_data",
          "data": {
            "text/plain": [
              "<Figure size 640x480 with 1 Axes>"
            ],
            "image/png": "[encoded data removed]"
          },
          "metadata": {}
        }
      ],
      "source": [
        "sns.regplot(x='parent_sleep', y='parent_grumpy', data=df)"
      ]
    },
    {
      "cell_type": "markdown",
      "metadata": {
        "id": "53x9Bg4lruxM"
      },
      "source": [
        "Alternatively, if we want more control over the plot, or want to make other modifications, then using matplotlib is often going to be preferred."
      ]
    },
    {
      "cell_type": "code",
      "execution_count": 16,
      "metadata": {
        "colab": {
          "base_uri": "https://localhost:8080/",
          "height": 388
        },
        "id": "_idb_OomruxM",
        "outputId": "98339fba-f623-4a27-e230-ab09c36d355b"
      },
      "outputs": [
        {
          "output_type": "display_data",
          "data": {
            "text/plain": [
              "<Figure size 650x400 with 1 Axes>"
            ],
            "image/png": "[encoded data removed]"
          },
          "metadata": {}
        }
      ],
      "source": [
        "fig, ax = plt.subplots(figsize=(6.5,4))\n",
        "\n",
        "# create a DataFrame with the minimum and maximum values of sleep\n",
        "x1 = pd.DataFrame({'parent_sleep': [df.parent_sleep.min(), df.parent_sleep.max()]})\n",
        "y1 = lm.predict(x1)  # predict for the two data points using the fitted model in lm\n",
        "ax.plot(df.parent_sleep, df.parent_grumpy, 'ko', markersize=4)\n",
        "ax.plot(x1, y1, '-', color='steelblue', linewidth=1)\n",
        "plt.xlabel(\"parent_sleep\")\n",
        "plt.ylabel(\"parent_grumpy\")\n",
        "plt.show()"
      ]
    },
    {
      "cell_type": "markdown",
      "metadata": {
        "id": "v4AZvAAWruxM"
      },
      "source": [
        "## Confidence in our Model\n",
        "\n",
        "As mentioned before, the **statsmodels** library offers some convience for more traditional statistics questions or tasks. One of those is getting an idea of how confident we are about the estimated values of the parameters. Looking at the confidence intervals for the parameter value estimates gives us a decent idea of whether the model fits this data reasonably well. Below we look at the 95% confidence interval, or the $(1-\\alpha)$% confidence interval.\n",
        "\n",
        "As you can see, although there is a range of possible values, the range is reasonably small, telling us that there is a high level of confidence these parameter values estimates are yielding a model that fits the data reasonably well. We have to be careful not to misinterpret this though, remember that the precise intrepretation of the confidence interval is...\n",
        "\n",
        "* If the population from which this sample was drawn was **sampled 100 times**, approximately **95 of those confidence intervals** would contain the \"true\" coefficient."
      ]
    },
    {
      "cell_type": "code",
      "execution_count": null,
      "metadata": {
        "id": "j660oVVWruxM"
      },
      "outputs": [],
      "source": [
        "# print the confidence intervals for the model coefficients\n",
        "sm_lm.conf_int(alpha=0.05)"
      ]
    },
    {
      "cell_type": "markdown",
      "metadata": {
        "id": "tbCon8kFruxM"
      },
      "source": [
        "Since the **sklearn** package tends to take more of a machine learning approach it does not have some of the same functionality as statsmodels. However, with a few more steps, it is possible to calculate. It's possible though, and you should verify that the confidence intervals are the same as above."
      ]
    },
    {
      "cell_type": "code",
      "execution_count": null,
      "metadata": {
        "id": "u2RdLhANruxM"
      },
      "outputs": [],
      "source": [
        "# needs the stats module for getting appropriate t-values\n",
        "from scipy import stats\n",
        "\n",
        "def get_conf_int(alpha, lr, X, y):\n",
        "    coefs = np.r_[[lr.intercept_], lr.coef_]\n",
        "    X_aux = X.copy()\n",
        "    X_aux.insert(0, 'const', 1)\n",
        "    dof = -np.diff(X_aux.shape)[0]\n",
        "    mse = np.sum((y - lr.predict(X)) ** 2) / dof\n",
        "    var_params = np.diag(np.linalg.inv(X_aux.T.dot(X_aux)))\n",
        "    t_val = stats.t.isf(alpha/2, dof)\n",
        "    gap = t_val * np.sqrt(mse * var_params)\n",
        "\n",
        "    return pd.DataFrame({\n",
        "        'lower': coefs - gap, 'upper': coefs + gap\n",
        "    }, index=X_aux.columns)\n",
        "\n",
        "get_conf_int(0.05, lm, df[['parent_sleep']], df['parent_grumpy'])"
      ]
    },
    {
      "cell_type": "code",
      "execution_count": null,
      "metadata": {
        "id": "Z15Q2ANdruxU"
      },
      "outputs": [],
      "source": [
        "np.diff(df.shape)"
      ]
    },
    {
      "cell_type": "markdown",
      "metadata": {
        "id": "ppuCgnGuruxU"
      },
      "source": [
        "Again, remember that we only have a **single sample of data**, and not the **entire population of data**. The \"true\" coefficient is either within this interval or it isn't, but there's no way to actually know. We estimate the coefficient with the data we do have, and we show uncertainty about that estimate by giving a range that the coefficient is **probably** within.\n",
        "\n",
        "Also note that using 95% confidence intervals is just a convention. We could create 90% confidence intervals (which will be more narrow), or 99% confidence intervals (which will be wider), or whatever intervals we think make the most sense for our analysis/task."
      ]
    },
    {
      "cell_type": "markdown",
      "metadata": {
        "id": "ezV45EpMruxU"
      },
      "source": [
        "## Hypothesis Testing and p-values\n",
        "\n",
        "Closely related to confidence intervals is **hypothesis testing**. Generally speaking, we start with a **null hypothesis** and an **alternative hypothesis** (that is opposite the null). Then, we check whether the data supports **rejecting the null hypothesis** or **failing to reject the null hypothesis**.\n",
        "\n",
        "(Note that \"failing to reject\" the null is not the same as \"accepting\" the null hypothesis. The alternative hypothesis may indeed be true, except that we just don't have enough data to show that.)\n",
        "\n",
        "As it relates to model coefficients, here is the conventional hypothesis test:\n",
        "- **null hypothesis:** There is no relationship between dad sleep and grumpiness (and thus $\\beta_1$ equals zero)\n",
        "- **alternative hypothesis:** There is a relationship between dad sleep and dad grumpinss (and thus $\\beta_1$ is not equal to zero)"
      ]
    },
    {
      "cell_type": "code",
      "execution_count": null,
      "metadata": {
        "id": "iEDdgJaWruxU"
      },
      "outputs": [],
      "source": [
        "# print the p-values for the model coefficients\n",
        "sm_lm.pvalues"
      ]
    },
    {
      "cell_type": "markdown",
      "metadata": {
        "id": "iLJPoMTdruxU"
      },
      "source": [
        "How do we test this hypothesis? Intuitively, we reject the null (and thus believe the alternative) if the 95% confidence interval **does not include zero**. That is generally much easier to intrepret than the p-value, which strictly speaking should be interpreted as follows:\n",
        "* If the null hypothesis is true, then the p-value is probability of observing the data that we did (and thus getting the model parameters that we did).\n",
        "\n",
        "In this case, since the the p-values are both so small, we can likely safely reject the null hypothesis in favor of the alternative.\n",
        "\n",
        "Note that we generally ignore the p-value for the intercept. So, focusing only on the model parameter associated with `parent_sleep`, and seeing a p-value far less than 0.05, we can conclude that there is a relationship between sleep and grumpiness."
      ]
    },
    {
      "cell_type": "markdown",
      "metadata": {
        "id": "A6h9WgZ-ruxU"
      },
      "source": [
        "## How Well Does the Model Fit the data?\n",
        "\n",
        "The most common way to evaluate the overall fit of a linear model is by the **R-squared** value. R-squared is calculated in such a way that it has the direct intrepretation of being the **proportion of variance explained**, meaning the proportion of variance in the observed data that is explained by the model, or the reduction in error over the **null model**. (The null model just predicts the mean of the observed response, and thus it has an intercept and no slope.)\n",
        "\n",
        "R-squared is between 0 and 1, and higher is better because it means that more variance is explained by the model. Here's an example of what R-squared might be for different models fit to the same dataset (but a different data than our parenthood data).\n",
        "\n",
        "![polyfits](https://github.com/sgeinitz/CS3120/blob/main/images/poly_fits.png?raw=true)\n",
        "\n",
        "You can see that the **blue line** explains some of the variance in the data (R-squared=0.54), the **green line** explains more of the variance (R-squared=0.64), and the **red line** fits the training data even further (R-squared=0.66). (No need to think about this too hard right now, but which of those possible"
      ]
    },
    {
      "cell_type": "markdown",
      "metadata": {
        "id": "xEmvh8rnruxU"
      },
      "source": [
        "Getting back to our parenthood datset, let's now calculate the R-squared value for our simple linear model."
      ]
    },
    {
      "cell_type": "code",
      "execution_count": null,
      "metadata": {
        "id": "Xt9J61zTruxU"
      },
      "outputs": [],
      "source": [
        "sm_lm.rsquared"
      ]
    },
    {
      "cell_type": "markdown",
      "metadata": {
        "id": "hUl2l7T2ruxU"
      },
      "source": [
        "It's difficult to say what \"_good_\" R-squared value is. The threshold for a good R-squared value will depend widely on the domain and data. Therefore, it's most useful as a tool for **comparing different models**, rather than as saying that a single model is \"_good_\"."
      ]
    },
    {
      "cell_type": "markdown",
      "metadata": {
        "id": "ZT9m7_tcruxU"
      },
      "source": [
        "Up until now we have been pulling information from the fitted model piece by piece. However, there is a nice summary command with **statsmodels** that lets you access a bunch of information about your regression at once. Don't worry about all of the other statistics and details listed there, just know that almost all of the information you'll ever need about a linear regression model can be found there."
      ]
    },
    {
      "cell_type": "code",
      "execution_count": null,
      "metadata": {
        "id": "LDWvDRvhruxV"
      },
      "outputs": [],
      "source": [
        "sm_lm.summary()"
      ]
    },
    {
      "cell_type": "markdown",
      "metadata": {
        "id": "9HwVWmhpruxV"
      },
      "source": [
        "## Training a Linear Regression Manually\n",
        "\n",
        "We saw how easy it is to use Python to fit (i.e. train) a linear regression model. Let's go ahead and confirm that the manual approaches we've seen, and the intuition behind them also make sense.\n",
        "\n",
        "Most often we'll see a linear regression defined for one $i^{th}$ observation or training example. Which, for the feature $x_i$ and outcome $y_i$, is written as:\n",
        "$$y_i = \\beta_0 1 + \\beta_1 x_i$$\n",
        "\n",
        "However, we also saw that this can be written in vector or matrix notation where the matrix, $X$, has a column of 1's in it.\n",
        "$$\\vec{y} = X \\vec{\\beta}$$\n",
        "where\n",
        "$$\\vec{\\beta} = \\begin{bmatrix}\\beta_0 \\\\ \\beta_1\\end{bmatrix}$$\n",
        "Then, since (or if) the columns of the matrix $X$ are linearly independent, then the matrix $(X^T X)$ has an inverse, and the model parameters can be calculated directly using:\n",
        "$$\\vec{\\beta} = (X^T X)^{-1} X^T \\vec{y}$$\n",
        "\n",
        "Let's now confirm this works using the parenthood data. We'll first create the matrix $X$, being sure to add a $1$ column since that is needed to estimate $\\beta_0$.\n",
        ""
      ]
    },
    {
      "cell_type": "code",
      "execution_count": null,
      "metadata": {
        "id": "Zjh2ZDfZruxV"
      },
      "outputs": [],
      "source": [
        "X = pd.DataFrame({'intercept': 1, 'parent_sleep': df.parent_sleep})\n",
        "X.head(n=3)"
      ]
    },
    {
      "cell_type": "markdown",
      "metadata": {
        "id": "wNhDL3D4ruxV"
      },
      "source": [
        "Let's now do all of the remaining calculations, one step at a time."
      ]
    },
    {
      "cell_type": "code",
      "execution_count": null,
      "metadata": {
        "id": "576J_nS4ruxV"
      },
      "outputs": [],
      "source": [
        "# Calculate X^T X\n",
        "XtX = np.dot(X.T, X)\n",
        "\n",
        "# Then the inverse of X^T X\n",
        "XtX_inv = np.linalg.inv(XtX)\n",
        "\n",
        "# Then X^T y\n",
        "Xty = np.dot(X.T, df.parent_grumpy)\n",
        "\n",
        "# And lastly the coefficients\n",
        "betas = np.dot(XtX_inv, Xty)\n",
        "betas"
      ]
    },
    {
      "cell_type": "markdown",
      "metadata": {
        "id": "j1HSmUClruxV"
      },
      "source": [
        "While the linear algebra approach is useful for understanding the underlying math from another point of view, it not immediately intuitive why it works. The following diagram is maybe the best attempt at trying to explain the intuition behind this linear algebra approach.\n",
        "\n",
        "![projection](https://github.com/sgeinitz/CS3120/blob/main/images/projection.png?raw=true)\n",
        "\n",
        "That image is telling us that the any prediction coming out of our model is going to be in the column space of $X$ (i.e. it will lay in a space that spanned by all possible linear combinations of the columns of $X$.) It is not super important that you know this, but it's a fun alternative way to see how linear regression models are fit to their data.\n",
        "\n",
        "The more intuitive way to explain how we fit a linear regression model is by looking more precisely at that quantity we want to minimize, namely the SSE:\n",
        "$$\\text{SSE} = \\sum_{i=1}^{n} (y_i - \\hat{y}_i)^2$$\n",
        "\n",
        "Recall that since $\\hat{y}_i$ is a the prediction for the $i^{th}$ observation, we can write it as $\\beta_0 + \\beta_1 x_i$, and thus rewrite SSE as:\n",
        "$$\\text{SSE} = \\sum_{i=1}^{n} \\left(y_i - (\\beta_0 + \\beta_1 x_i)\\right)^2$$\n",
        "\n",
        "Since there are two parameters, $\\beta_0, \\beta_1$, it's easy for us to visualize what the SSE looks like as a function of these two parameters. Below is a heatmap or surface plot of these. Again, to train the model we need to find the model parameter values that minimize SSE. Look at the plot below to see if you can roughly guess what the parameter values are."
      ]
    },
    {
      "cell_type": "code",
      "execution_count": null,
      "metadata": {
        "id": "YYtxcocuruxV"
      },
      "outputs": [],
      "source": [
        "beta0_range = 25\n",
        "beta0 = np.arange(lm.intercept_+beta0_range, lm.intercept_-beta0_range, -0.5)\n",
        "beta1_range = 4\n",
        "beta1 = np.arange(lm.coef_[0]-beta1_range, lm.coef_[0]+beta1_range, 0.1)\n",
        "surf = np.array( [[np.square(df.parent_grumpy - (beta0[i] + beta1[j]*df.parent_sleep)).sum() for j in range(len(beta1))] for i in range(len(beta0))] )\n",
        "df_surf = pd.DataFrame(surf, columns=beta1, index=beta0)\n",
        "\n",
        "fig, ax = plt.subplots(figsize=(10, 8))\n",
        "sns.heatmap(df_surf, cbar_kws={'label': 'SSE'}, cmap=\"RdYlGn_r\", ax=ax)\n",
        "ax.contour(np.arange(.5, df_surf.shape[1]), np.arange(.5, df_surf.shape[0]), df_surf, colors='black', levels=[1960, 9000, 50000, 150000], linewidths=0.5)\n",
        "\n",
        "plt.xlabel(\"beta1\")\n",
        "plt.ylabel(\"beta0\")\n",
        "plt.show()\n"
      ]
    },
    {
      "cell_type": "markdown",
      "metadata": {
        "id": "Zk4d0wxuruxV"
      },
      "source": [
        "You probably already figured out how to find the parameter values above, which is to look at the values of $beta_0$ and $\\beta_1$ that corresponded to the lowest point on the surface. We can look the data used in the plot and see here."
      ]
    },
    {
      "cell_type": "code",
      "execution_count": null,
      "metadata": {
        "id": "e7ggwri2ruxV"
      },
      "outputs": [],
      "source": [
        "# find the minimum of the surface\n",
        "beta0_min, beta1_min = np.unravel_index(surf.argmin(), surf.shape)\n",
        "beta0[beta0_min], beta1[beta1_min]"
      ]
    },
    {
      "cell_type": "markdown",
      "metadata": {
        "id": "s4cu2m1cruxV"
      },
      "source": [
        "Notice that those values are nearly exactly what we found using **statsmodels**, **sklearn**, as well as the linear algebra approach. Let's try one more way of finding these parameter values now. For this we'll use calculus to solve for values of $\\beta_0$ and $\\beta_1$ that give us the minimum on the surface above (i.e. the value where the slope of the surface is zero).\n",
        "\n",
        "If you recall from Calculus class, we simply need to write the SSE as a function of the model parameters, $\\beta_0$, $\\beta_1$, and set it to zero, then solve. It's not important that you know how to do this exactly, but it's important to know that this is yet another way to think about \"_training_\" a linear regression model. Let's first explicitly state that the SSE is a function of the model parameters:\n",
        "$$\\text{SSE}(\\beta_0, \\beta_1) = \\sum_{i=1}^{n} \\left( y_i - (\\beta_0 + \\beta_1 x_i) \\right)^2$$\n"
      ]
    },
    {
      "cell_type": "markdown",
      "metadata": {
        "id": "JL9vfUoZruxV"
      },
      "source": [
        "Steps to Solve for $\\beta_0$ and $\\beta_1$ Using Calculus\n",
        "\n",
        "1. Partial Derivatives\n",
        "   - To minimize SSE, take the partial derivatives of SSE with respect to $\\beta_0$ and $\\beta_1$, and set them equal to zero.\n",
        "\n",
        "   Partial Derivative with respect to $\\beta_0$:\n",
        "   $$\\frac{\\partial \\text{SSE}}{\\partial \\beta_0} = \\sum_{i=1}^{n} -2 \\cdot \\left( y_i - \\beta_0 - \\beta_1 \\cdot x_i \\right) = 0$$\n",
        "\n",
        "   Partial Derivative with respect to $\\beta_1$:\n",
        "   $$\\frac{\\partial \\text{SSE}}{\\partial \\beta_1} = \\sum_{i=1}^{n} -2 \\cdot x_i \\cdot \\left( y_i - \\beta_0 - \\beta_1 \\cdot x_i \\right) = 0$$\n",
        "\n",
        "2. Simplify the Equations\n",
        "   - Simplify the partial derivative equations to form two normal equations.\n",
        "\n",
        "   For $\\beta_0$:\n",
        "   $$\\sum_{i=1}^{n} \\left( y_i - \\beta_0 - \\beta_1 \\cdot x_i \\right) = 0$$\n",
        "   - Expanding and beginning to isolate $\\beta_0$, we get:\n",
        "   $$\\sum_{i=1}^{n} y_i - n \\cdot \\beta_0 + \\beta_1 \\sum_{i=1}^{n} x_i = 0 \\quad \\rightarrow \\quad n \\cdot \\beta_0 = \\sum_{i=1}^{n} y_i -\\beta_1 \\cdot \\sum_{i=1}^{n} x_i $$\n",
        "   - Divide by $n$ to get:\n",
        "   $$\\beta_0 = \\bar{y} - \\beta_1 \\cdot \\bar{x}$$\n",
        "   where $\\bar{y} = \\frac{1}{n} \\sum_{i=1}^{n} y_i$ and $\\bar{x} = \\frac{1}{n} \\sum_{i=1}^{n} x_i$ are the means of $y$ and $x$, respectively.\n",
        "\n",
        "   For $\\beta_1$:\n",
        "   $$\\sum_{i=1}^{n} x_i \\cdot y_i = \\beta_0 \\cdot \\sum_{i=1}^{n} x_i + \\beta_1 \\cdot \\sum_{i=1}^{n} x_i^2$$\n",
        "   - Substitute $\\beta_0 = \\bar{y} - \\beta_1 \\cdot \\bar{x}$ into this equation:\n",
        "   $$\\sum_{i=1}^{n} x_i \\cdot y_i = (\\bar{y} - \\beta_1 \\cdot \\bar{x}) \\cdot \\sum_{i=1}^{n} x_i + \\beta_1 \\cdot \\sum_{i=1}^{n} x_i^2$$\n",
        "   - After expanding and simplifying:\n",
        "   $$\\beta_1 = \\frac{\\sum_{i=1}^{n} \\left( x_i - \\bar{x} \\right) \\left( y_i - \\bar{y} \\right)}{\\sum_{i=1}^{n} \\left( x_i - \\bar{x} \\right)^2}$$\n",
        "\n",
        "Let's now use these formulas to \"train\" the model (i.e. calculate the values of the parameters $\\beta_0$, $\\beta_1$) for our given training dataset.\n"
      ]
    },
    {
      "cell_type": "code",
      "execution_count": null,
      "metadata": {
        "id": "U-p4IEp7ruxV"
      },
      "outputs": [],
      "source": [
        "n = df.shape[0] # this is the number of observations or training examples\n",
        "b1_numerator = np.sum((df.parent_grumpy - df.parent_grumpy.mean()) * (df.parent_sleep - df.parent_sleep.mean()))\n",
        "b1_denominator = np.sum((df.parent_sleep - df.parent_sleep.mean()) ** 2)\n",
        "beta1_hat = b1_numerator / b1_denominator\n",
        "\n",
        "beta0_hat = df.parent_grumpy.mean() - beta1_hat * df.parent_sleep.mean()\n",
        "(beta0_hat, beta1_hat)"
      ]
    },
    {
      "cell_type": "markdown",
      "metadata": {
        "id": "BckVlrbmruxV"
      },
      "source": [
        "As you can see, those values are the exact same as we found earlier. You may have noticed that the formulas we found for $\\beta_0$ and $\\beta_1$ above contain some terms that look similar to variance and covariance calculations. Given that, we could also calculate these values in a more concise manner using **numpy's** functions for these descriptive statistics."
      ]
    },
    {
      "cell_type": "code",
      "execution_count": null,
      "metadata": {
        "id": "fOoPWVO1ruxV"
      },
      "outputs": [],
      "source": [
        "cov = np.cov(df.parent_sleep, df.parent_grumpy, ddof=0) # calculate the covariance of x=df.parent_sleep and y=df.parent_grumpy\n",
        "var_x = np.var(df.parent_sleep, ddof=0) # calculate the variance of x=df.parent_sleep\n",
        "\n",
        "beta1_hat = cov[0,1] / var_x\n",
        "beta0_hat = df.parent_grumpy.mean() - beta1_hat * df.parent_sleep.mean()\n",
        "(beta0_hat, beta1_hat)"
      ]
    },
    {
      "cell_type": "markdown",
      "metadata": {
        "id": "wyv5wxtyruxV"
      },
      "source": [
        "Hopefully it is somewhat satisfying to see that regardless of the approach we used, we still come up with the same model fit (i.e. the model parameters have the same values). We won't look at them here, but there are even more ways to state these formulas, including with the correlation between $x$ and $y$.\n",
        "\n",
        "Next, let's assume that when the data was collected, the amount of sleep a parent had was recorded in minuts. The cell below creates this column, `parent_sleep_minutes`. Use this for the following question."
      ]
    },
    {
      "cell_type": "code",
      "execution_count": null,
      "metadata": {
        "id": "FYq0rQwWruxV"
      },
      "outputs": [],
      "source": [
        "df['parent_sleep_minutes'] = df['parent_sleep']*60\n",
        "df.parent_sleep_minutes.describe()"
      ]
    },
    {
      "cell_type": "markdown",
      "metadata": {
        "id": "5BgW5mAeruxV"
      },
      "source": [
        " ***\n",
        "\n",
        " ### Q6: Fit a new linear regression model with **statsmodels** where `parent_sleep_minutes` is used to predict `parent_grumpy`. Does this affect the model parameter estimates? Are they the same? Or different?\n",
        "\n",
        " \\<modify the code in the cell below and modify it to fit the linear regression model and retrieve the model summary. Then input your here - be sure to state what the grumpiness value the model predicted\\>\n",
        "\n",
        " ***"
      ]
    },
    {
      "cell_type": "code",
      "execution_count": null,
      "metadata": {
        "id": "xAGaHyhtruxV"
      },
      "outputs": [],
      "source": [
        "sm_lm_min = smf.ols(formula=' ~ ', data=df).fit()\n",
        "sm_lm_min.params"
      ]
    },
    {
      "cell_type": "markdown",
      "metadata": {
        "id": "1F6aiI0kruxV"
      },
      "source": [
        "***\n",
        "\n",
        "### Q7: Does having `parent_sleep` measured in different units affect how well the model fits the data? In other words, is the $R^2$ different from when `parent_sleep` was measured in hours? Also, are the p-values associated with $\\beta_0$, $\\beta_1$ different? What does this tell you about how linear regression models are affected by a variable being scaled?\n",
        "\n",
        "\\<insert a code cell below then use `sm_lm_min.summary()` to retrieve the model summary and then input your answer here\\>\n",
        "\n",
        "***"
      ]
    },
    {
      "cell_type": "markdown",
      "metadata": {
        "id": "QmsupDEVruxV"
      },
      "source": [
        "### Multiple Linear Regression\n",
        "\n",
        "What we've looked at so far is commonly referred to as *Simple Linear Regression*, which is when there is one *predictor* (or *feature* or *independent variable*), $x$, and we are trying to predict the *outcome* or *response* or *dependent variable*, $y$. Linear Regression is a powerful and commonly used tool though, so you can imagine that it's not too difficult to add more predictors. Below is an example where we'll try fitting a *Multiple linear Regression* model, which is a linear regression model with more two or more *predictors* (or *features* or *independent variables*).\n",
        "\n",
        "The dataset is a (hypothetical) company's advertising spend and sales they have made for each day. There are four columns in the data:\n",
        "* `tv` - amount of money spent on television advertising last week\n",
        "* `radio` - amount of money spent on radio advertising last week\n",
        "* `newspaper` - amount of money spent on newpaper advertising last week\n",
        "* `sales` - number of widgets (in thousands) the company sold last week"
      ]
    },
    {
      "cell_type": "code",
      "execution_count": null,
      "metadata": {
        "id": "kGAVHhKlruxV"
      },
      "outputs": [],
      "source": [
        "df_adv = pd.read_csv('https://raw.githubusercontent.com/sgeinitz/CS3120/main/lab1_data_advertising.csv')\n",
        "df_adv.head()"
      ]
    },
    {
      "cell_type": "markdown",
      "metadata": {
        "id": "0w8a3UrpruxV"
      },
      "source": [
        "Let's also get a quick idea of what the data looks like in terms of min, max, mean, etc."
      ]
    },
    {
      "cell_type": "code",
      "execution_count": null,
      "metadata": {
        "id": "nC3TpoFLruxV"
      },
      "outputs": [],
      "source": [
        "df_adv.describe()"
      ]
    },
    {
      "cell_type": "markdown",
      "metadata": {
        "id": "MhV9DRTjruxV"
      },
      "source": [
        "***\n",
        "\n",
        " ### Q8: As we said, any data analysis or modeling task first requires looking at or visualizing the data. Plot the each of the independent variables (`tv`, `radio`, `newspaper`) against the dependent variable, `sales`. Then state which of them you think looks like it going to best predict `sales`.\n",
        "\n",
        "\\<modify the code cell below (the first is done for you) and then input your answer here\\>\n",
        "\n",
        "***\n",
        "\n",
        "If you can, try to put all of the plots together in a single figure."
      ]
    },
    {
      "cell_type": "code",
      "execution_count": null,
      "metadata": {
        "id": "DCHz1GKfruxW"
      },
      "outputs": [],
      "source": [
        "# plot all three of the features against sales\n",
        "fig, (ax1, ax2, ax3) = plt.subplots(1, 3, figsize=(15, 5))\n",
        "sns.scatterplot(data=df_adv, x='tv', y='sales', ax=ax1)\n",
        "sns.scatterplot(data=df_adv, x='radio', y='sales', ax=ax2)\n",
        "sns.scatterplot(data=df_adv, x='newspaper', y='sales', ax=ax3)\n",
        "plt.show()\n"
      ]
    },
    {
      "cell_type": "markdown",
      "metadata": {
        "id": "vKF9k04KruxW"
      },
      "source": [
        "Next, let's fit a linear regression model using all three variables."
      ]
    },
    {
      "cell_type": "code",
      "execution_count": null,
      "metadata": {
        "id": "wgsd5u0vruxW"
      },
      "outputs": [],
      "source": [
        "lm_adv = smf.ols(formula='sales ~ tv + radio + newspaper', data=df_adv).fit()\n",
        "lm_adv.summary()"
      ]
    },
    {
      "cell_type": "markdown",
      "metadata": {
        "id": "SGNGKNHgruxW"
      },
      "source": [
        "It looks like that model fits pretty well. But, based on the plots you saw above, it looks like there is not an exact linear relationship between `tv` and `sales`...\n",
        "\n",
        "***\n",
        "\n",
        "### Q9: Try fitting a model to this dataset with `radio` and `newspaper` included, but use the square root of `tv`. Then print the summary of the model to see the $R^2$. If you worked for this company, which model do you think you would use? The one above or this new one you created here? Explain why.\n",
        "\n",
        "\\<fix the code cell below to fit the model described above and then input your answer here>\n",
        "\n",
        "***\n",
        "\n",
        "Hints:\n",
        "* Use [this reference](https://www.statsmodels.org/dev/example_formulas.html#functions) to see how to include a function of an independent variable in your model\n",
        "* The function, `np.sqrt( )` is numpy's square root function"
      ]
    },
    {
      "cell_type": "code",
      "execution_count": null,
      "metadata": {
        "id": "RDE23lEEruxW"
      },
      "outputs": [],
      "source": [
        "lm_adv = smf.ols(formula='sales ~ ', data=df_adv).fit()\n",
        "lm_adv.summary()"
      ]
    },
    {
      "cell_type": "markdown",
      "metadata": {
        "id": "9IT5Xb2ZruxW"
      },
      "source": [
        "Nice work completing this notebook. If you didn't already appreciate the power of linear regression, hopefully this helped convince you in some way. Even though we will use lots of other types of models, you will almost always want to start with linear regression because of its simplicity, stability, and flexibility. We'll always want to use the *right model for the task at hand* though, so we probably don't want to be too much like either of the people below :)\n",
        "\n",
        "![Example Image](https://media.licdn.com/dms/image/v2/D4E22AQFLVt8372oIQA/feedshare-shrink_800/feedshare-shrink_800/0/1710511681665?e=1727308800&v=beta&t=XephAeg6t9otHgyXtIHxbYiAxJdKOkH0uP0pU9eP2oY)\n"
      ]
    }
  ],
  "metadata": {
    "kernelspec": {
      "display_name": "Python 3 (ipykernel)",
      "language": "python",
      "name": "python3"
    },
    "language_info": {
      "codemirror_mode": {
        "name": "ipython",
        "version": 3
      },
      "file_extension": ".py",
      "mimetype": "text/x-python",
      "name": "python",
      "nbconvert_exporter": "python",
      "pygments_lexer": "ipython3",
      "version": "3.12.4"
    },
    "toc": {
      "base_numbering": 1,
      "nav_menu": {},
      "number_sections": true,
      "sideBar": true,
      "skip_h1_title": false,
      "title_cell": "Table of Contents",
      "title_sidebar": "Contents",
      "toc_cell": false,
      "toc_position": {},
      "toc_section_display": true,
      "toc_window_display": false
    },
    "colab": {
      "provenance": []
    },
    "widgets": {
      "application/vnd.jupyter.widget-state+json": {
        "14bf55c38c204fcf98bd2ef33296dd49": {
          "model_module": "@jupyter-widgets/controls",
          "model_name": "VBoxModel",
          "model_module_version": "1.5.0",
          "state": {
            "_dom_classes": [
              "widget-interact"
            ],
            "_model_module": "@jupyter-widgets/controls",
            "_model_module_version": "1.5.0",
            "_model_name": "VBoxModel",
            "_view_count": null,
            "_view_module": "@jupyter-widgets/controls",
            "_view_module_version": "1.5.0",
            "_view_name": "VBoxView",
            "box_style": "",
            "children": [
              "IPY_MODEL_06171747789f4eb3a67aab4c8b1109c6",
              "IPY_MODEL_7790295c19d8478fa4b5c71a04c51a5a",
              "IPY_MODEL_07c48d6b8ec547a8924e7f358ff802e4"
            ],
            "layout": "IPY_MODEL_8c84d2f09fde4a629b25b817511cb9b2"
          }
        },
        "06171747789f4eb3a67aab4c8b1109c6": {
          "model_module": "@jupyter-widgets/controls",
          "model_name": "IntSliderModel",
          "model_module_version": "1.5.0",
          "state": {
            "_dom_classes": [],
            "_model_module": "@jupyter-widgets/controls",
            "_model_module_version": "1.5.0",
            "_model_name": "IntSliderModel",
            "_view_count": null,
            "_view_module": "@jupyter-widgets/controls",
            "_view_module_version": "1.5.0",
            "_view_name": "IntSliderView",
            "continuous_update": true,
            "description": "slope",
            "description_tooltip": null,
            "disabled": false,
            "layout": "IPY_MODEL_49fd18f8fe494fc98684520868f1c35b",
            "max": 20,
            "min": -20,
            "orientation": "horizontal",
            "readout": true,
            "readout_format": "d",
            "step": 1,
            "style": "IPY_MODEL_ae599ebaf7c5479f8b9d3f33178e2226",
            "value": -9
          }
        },
        "7790295c19d8478fa4b5c71a04c51a5a": {
          "model_module": "@jupyter-widgets/controls",
          "model_name": "IntSliderModel",
          "model_module_version": "1.5.0",
          "state": {
            "_dom_classes": [],
            "_model_module": "@jupyter-widgets/controls",
            "_model_module_version": "1.5.0",
            "_model_name": "IntSliderModel",
            "_view_count": null,
            "_view_module": "@jupyter-widgets/controls",
            "_view_module_version": "1.5.0",
            "_view_name": "IntSliderView",
            "continuous_update": true,
            "description": "intercept",
            "description_tooltip": null,
            "disabled": false,
            "layout": "IPY_MODEL_978efa1075e74e36a6549dce92da9ab6",
            "max": 200,
            "min": 0,
            "orientation": "horizontal",
            "readout": true,
            "readout_format": "d",
            "step": 1,
            "style": "IPY_MODEL_e5482fc680a746df92fdec10fa0949e9",
            "value": 126
          }
        },
        "07c48d6b8ec547a8924e7f358ff802e4": {
          "model_module": "@jupyter-widgets/output",
          "model_name": "OutputModel",
          "model_module_version": "1.0.0",
          "state": {
            "_dom_classes": [],
            "_model_module": "@jupyter-widgets/output",
            "_model_module_version": "1.0.0",
            "_model_name": "OutputModel",
            "_view_count": null,
            "_view_module": "@jupyter-widgets/output",
            "_view_module_version": "1.0.0",
            "_view_name": "OutputView",
            "layout": "IPY_MODEL_8301fa6ecce848358b8785d3e12ff840",
            "msg_id": "",
            "outputs": [
              {
                "output_type": "display_data",
                "data": {
                  "text/plain": "<Figure size 900x600 with 1 Axes>",
                  "image/png": "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\n"
                },
                "metadata": {}
              }
            ]
          }
        },
        "8c84d2f09fde4a629b25b817511cb9b2": {
          "model_module": "@jupyter-widgets/base",
          "model_name": "LayoutModel",
          "model_module_version": "1.2.0",
          "state": {
            "_model_module": "@jupyter-widgets/base",
            "_model_module_version": "1.2.0",
            "_model_name": "LayoutModel",
            "_view_count": null,
            "_view_module": "@jupyter-widgets/base",
            "_view_module_version": "1.2.0",
            "_view_name": "LayoutView",
            "align_content": null,
            "align_items": null,
            "align_self": null,
            "border": null,
            "bottom": null,
            "display": null,
            "flex": null,
            "flex_flow": null,
            "grid_area": null,
            "grid_auto_columns": null,
            "grid_auto_flow": null,
            "grid_auto_rows": null,
            "grid_column": null,
            "grid_gap": null,
            "grid_row": null,
            "grid_template_areas": null,
            "grid_template_columns": null,
            "grid_template_rows": null,
            "height": null,
            "justify_content": null,
            "justify_items": null,
            "left": null,
            "margin": null,
            "max_height": null,
            "max_width": null,
            "min_height": null,
            "min_width": null,
            "object_fit": null,
            "object_position": null,
            "order": null,
            "overflow": null,
            "overflow_x": null,
            "overflow_y": null,
            "padding": null,
            "right": null,
            "top": null,
            "visibility": null,
            "width": null
          }
        },
        "49fd18f8fe494fc98684520868f1c35b": {
          "model_module": "@jupyter-widgets/base",
          "model_name": "LayoutModel",
          "model_module_version": "1.2.0",
          "state": {
            "_model_module": "@jupyter-widgets/base",
            "_model_module_version": "1.2.0",
            "_model_name": "LayoutModel",
            "_view_count": null,
            "_view_module": "@jupyter-widgets/base",
            "_view_module_version": "1.2.0",
            "_view_name": "LayoutView",
            "align_content": null,
            "align_items": null,
            "align_self": null,
            "border": null,
            "bottom": null,
            "display": null,
            "flex": null,
            "flex_flow": null,
            "grid_area": null,
            "grid_auto_columns": null,
            "grid_auto_flow": null,
            "grid_auto_rows": null,
            "grid_column": null,
            "grid_gap": null,
            "grid_row": null,
            "grid_template_areas": null,
            "grid_template_columns": null,
            "grid_template_rows": null,
            "height": null,
            "justify_content": null,
            "justify_items": null,
            "left": null,
            "margin": null,
            "max_height": null,
            "max_width": null,
            "min_height": null,
            "min_width": null,
            "object_fit": null,
            "object_position": null,
            "order": null,
            "overflow": null,
            "overflow_x": null,
            "overflow_y": null,
            "padding": null,
            "right": null,
            "top": null,
            "visibility": null,
            "width": null
          }
        },
        "ae599ebaf7c5479f8b9d3f33178e2226": {
          "model_module": "@jupyter-widgets/controls",
          "model_name": "SliderStyleModel",
          "model_module_version": "1.5.0",
          "state": {
            "_model_module": "@jupyter-widgets/controls",
            "_model_module_version": "1.5.0",
            "_model_name": "SliderStyleModel",
            "_view_count": null,
            "_view_module": "@jupyter-widgets/base",
            "_view_module_version": "1.2.0",
            "_view_name": "StyleView",
            "description_width": "",
            "handle_color": null
          }
        },
        "978efa1075e74e36a6549dce92da9ab6": {
          "model_module": "@jupyter-widgets/base",
          "model_name": "LayoutModel",
          "model_module_version": "1.2.0",
          "state": {
            "_model_module": "@jupyter-widgets/base",
            "_model_module_version": "1.2.0",
            "_model_name": "LayoutModel",
            "_view_count": null,
            "_view_module": "@jupyter-widgets/base",
            "_view_module_version": "1.2.0",
            "_view_name": "LayoutView",
            "align_content": null,
            "align_items": null,
            "align_self": null,
            "border": null,
            "bottom": null,
            "display": null,
            "flex": null,
            "flex_flow": null,
            "grid_area": null,
            "grid_auto_columns": null,
            "grid_auto_flow": null,
            "grid_auto_rows": null,
            "grid_column": null,
            "grid_gap": null,
            "grid_row": null,
            "grid_template_areas": null,
            "grid_template_columns": null,
            "grid_template_rows": null,
            "height": null,
            "justify_content": null,
            "justify_items": null,
            "left": null,
            "margin": null,
            "max_height": null,
            "max_width": null,
            "min_height": null,
            "min_width": null,
            "object_fit": null,
            "object_position": null,
            "order": null,
            "overflow": null,
            "overflow_x": null,
            "overflow_y": null,
            "padding": null,
            "right": null,
            "top": null,
            "visibility": null,
            "width": null
          }
        },
        "e5482fc680a746df92fdec10fa0949e9": {
          "model_module": "@jupyter-widgets/controls",
          "model_name": "SliderStyleModel",
          "model_module_version": "1.5.0",
          "state": {
            "_model_module": "@jupyter-widgets/controls",
            "_model_module_version": "1.5.0",
            "_model_name": "SliderStyleModel",
            "_view_count": null,
            "_view_module": "@jupyter-widgets/base",
            "_view_module_version": "1.2.0",
            "_view_name": "StyleView",
            "description_width": "",
            "handle_color": null
          }
        },
        "8301fa6ecce848358b8785d3e12ff840": {
          "model_module": "@jupyter-widgets/base",
          "model_name": "LayoutModel",
          "model_module_version": "1.2.0",
          "state": {
            "_model_module": "@jupyter-widgets/base",
            "_model_module_version": "1.2.0",
            "_model_name": "LayoutModel",
            "_view_count": null,
            "_view_module": "@jupyter-widgets/base",
            "_view_module_version": "1.2.0",
            "_view_name": "LayoutView",
            "align_content": null,
            "align_items": null,
            "align_self": null,
            "border": null,
            "bottom": null,
            "display": null,
            "flex": null,
            "flex_flow": null,
            "grid_area": null,
            "grid_auto_columns": null,
            "grid_auto_flow": null,
            "grid_auto_rows": null,
            "grid_column": null,
            "grid_gap": null,
            "grid_row": null,
            "grid_template_areas": null,
            "grid_template_columns": null,
            "grid_template_rows": null,
            "height": null,
            "justify_content": null,
            "justify_items": null,
            "left": null,
            "margin": null,
            "max_height": null,
            "max_width": null,
            "min_height": null,
            "min_width": null,
            "object_fit": null,
            "object_position": null,
            "order": null,
            "overflow": null,
            "overflow_x": null,
            "overflow_y": null,
            "padding": null,
            "right": null,
            "top": null,
            "visibility": null,
            "width": null
          }
        },
        "2050ca1645124dd58b7c12ce1735cc10": {
          "model_module": "@jupyter-widgets/controls",
          "model_name": "VBoxModel",
          "model_module_version": "1.5.0",
          "state": {
            "_dom_classes": [
              "widget-interact"
            ],
            "_model_module": "@jupyter-widgets/controls",
            "_model_module_version": "1.5.0",
            "_model_name": "VBoxModel",
            "_view_count": null,
            "_view_module": "@jupyter-widgets/controls",
            "_view_module_version": "1.5.0",
            "_view_name": "VBoxView",
            "box_style": "",
            "children": [
              "IPY_MODEL_fae6d332e4414aa09885d9d16ec4b60d",
              "IPY_MODEL_158a57dff0d94cbea56f0e57d616387c",
              "IPY_MODEL_48e482bb1d5b44c0acf4b954bca0c398"
            ],
            "layout": "IPY_MODEL_a674ce9383474f1b9703c78f0ccb358b"
          }
        },
        "fae6d332e4414aa09885d9d16ec4b60d": {
          "model_module": "@jupyter-widgets/controls",
          "model_name": "IntSliderModel",
          "model_module_version": "1.5.0",
          "state": {
            "_dom_classes": [],
            "_model_module": "@jupyter-widgets/controls",
            "_model_module_version": "1.5.0",
            "_model_name": "IntSliderModel",
            "_view_count": null,
            "_view_module": "@jupyter-widgets/controls",
            "_view_module_version": "1.5.0",
            "_view_name": "IntSliderView",
            "continuous_update": true,
            "description": "slope",
            "description_tooltip": null,
            "disabled": false,
            "layout": "IPY_MODEL_d361917c7a3c4ba9aec32f5dd5bd882d",
            "max": 20,
            "min": -20,
            "orientation": "horizontal",
            "readout": true,
            "readout_format": "d",
            "step": 1,
            "style": "IPY_MODEL_90988323fc9a4b6cb91e53a4ee370e7c",
            "value": -10
          }
        },
        "158a57dff0d94cbea56f0e57d616387c": {
          "model_module": "@jupyter-widgets/controls",
          "model_name": "IntSliderModel",
          "model_module_version": "1.5.0",
          "state": {
            "_dom_classes": [],
            "_model_module": "@jupyter-widgets/controls",
            "_model_module_version": "1.5.0",
            "_model_name": "IntSliderModel",
            "_view_count": null,
            "_view_module": "@jupyter-widgets/controls",
            "_view_module_version": "1.5.0",
            "_view_name": "IntSliderView",
            "continuous_update": true,
            "description": "intercept",
            "description_tooltip": null,
            "disabled": false,
            "layout": "IPY_MODEL_b65ac868fcf5434385d96c52103bded6",
            "max": 200,
            "min": 0,
            "orientation": "horizontal",
            "readout": true,
            "readout_format": "d",
            "step": 1,
            "style": "IPY_MODEL_a3988b538c4b46c9998e47ce7ad1ac73",
            "value": 134
          }
        },
        "48e482bb1d5b44c0acf4b954bca0c398": {
          "model_module": "@jupyter-widgets/output",
          "model_name": "OutputModel",
          "model_module_version": "1.0.0",
          "state": {
            "_dom_classes": [],
            "_model_module": "@jupyter-widgets/output",
            "_model_module_version": "1.0.0",
            "_model_name": "OutputModel",
            "_view_count": null,
            "_view_module": "@jupyter-widgets/output",
            "_view_module_version": "1.0.0",
            "_view_name": "OutputView",
            "layout": "IPY_MODEL_3be4e48674c44fbbaa3b2787963eee17",
            "msg_id": "",
            "outputs": [
              {
                "output_type": "display_data",
                "data": {
                  "text/plain": "<Figure size 900x600 with 1 Axes>",
                  "image/png": "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\n"
                },
                "metadata": {}
              }
            ]
          }
        },
        "a674ce9383474f1b9703c78f0ccb358b": {
          "model_module": "@jupyter-widgets/base",
          "model_name": "LayoutModel",
          "model_module_version": "1.2.0",
          "state": {
            "_model_module": "@jupyter-widgets/base",
            "_model_module_version": "1.2.0",
            "_model_name": "LayoutModel",
            "_view_count": null,
            "_view_module": "@jupyter-widgets/base",
            "_view_module_version": "1.2.0",
            "_view_name": "LayoutView",
            "align_content": null,
            "align_items": null,
            "align_self": null,
            "border": null,
            "bottom": null,
            "display": null,
            "flex": null,
            "flex_flow": null,
            "grid_area": null,
            "grid_auto_columns": null,
            "grid_auto_flow": null,
            "grid_auto_rows": null,
            "grid_column": null,
            "grid_gap": null,
            "grid_row": null,
            "grid_template_areas": null,
            "grid_template_columns": null,
            "grid_template_rows": null,
            "height": null,
            "justify_content": null,
            "justify_items": null,
            "left": null,
            "margin": null,
            "max_height": null,
            "max_width": null,
            "min_height": null,
            "min_width": null,
            "object_fit": null,
            "object_position": null,
            "order": null,
            "overflow": null,
            "overflow_x": null,
            "overflow_y": null,
            "padding": null,
            "right": null,
            "top": null,
            "visibility": null,
            "width": null
          }
        },
        "d361917c7a3c4ba9aec32f5dd5bd882d": {
          "model_module": "@jupyter-widgets/base",
          "model_name": "LayoutModel",
          "model_module_version": "1.2.0",
          "state": {
            "_model_module": "@jupyter-widgets/base",
            "_model_module_version": "1.2.0",
            "_model_name": "LayoutModel",
            "_view_count": null,
            "_view_module": "@jupyter-widgets/base",
            "_view_module_version": "1.2.0",
            "_view_name": "LayoutView",
            "align_content": null,
            "align_items": null,
            "align_self": null,
            "border": null,
            "bottom": null,
            "display": null,
            "flex": null,
            "flex_flow": null,
            "grid_area": null,
            "grid_auto_columns": null,
            "grid_auto_flow": null,
            "grid_auto_rows": null,
            "grid_column": null,
            "grid_gap": null,
            "grid_row": null,
            "grid_template_areas": null,
            "grid_template_columns": null,
            "grid_template_rows": null,
            "height": null,
            "justify_content": null,
            "justify_items": null,
            "left": null,
            "margin": null,
            "max_height": null,
            "max_width": null,
            "min_height": null,
            "min_width": null,
            "object_fit": null,
            "object_position": null,
            "order": null,
            "overflow": null,
            "overflow_x": null,
            "overflow_y": null,
            "padding": null,
            "right": null,
            "top": null,
            "visibility": null,
            "width": null
          }
        },
        "90988323fc9a4b6cb91e53a4ee370e7c": {
          "model_module": "@jupyter-widgets/controls",
          "model_name": "SliderStyleModel",
          "model_module_version": "1.5.0",
          "state": {
            "_model_module": "@jupyter-widgets/controls",
            "_model_module_version": "1.5.0",
            "_model_name": "SliderStyleModel",
            "_view_count": null,
            "_view_module": "@jupyter-widgets/base",
            "_view_module_version": "1.2.0",
            "_view_name": "StyleView",
            "description_width": "",
            "handle_color": null
          }
        },
        "b65ac868fcf5434385d96c52103bded6": {
          "model_module": "@jupyter-widgets/base",
          "model_name": "LayoutModel",
          "model_module_version": "1.2.0",
          "state": {
            "_model_module": "@jupyter-widgets/base",
            "_model_module_version": "1.2.0",
            "_model_name": "LayoutModel",
            "_view_count": null,
            "_view_module": "@jupyter-widgets/base",
            "_view_module_version": "1.2.0",
            "_view_name": "LayoutView",
            "align_content": null,
            "align_items": null,
            "align_self": null,
            "border": null,
            "bottom": null,
            "display": null,
            "flex": null,
            "flex_flow": null,
            "grid_area": null,
            "grid_auto_columns": null,
            "grid_auto_flow": null,
            "grid_auto_rows": null,
            "grid_column": null,
            "grid_gap": null,
            "grid_row": null,
            "grid_template_areas": null,
            "grid_template_columns": null,
            "grid_template_rows": null,
            "height": null,
            "justify_content": null,
            "justify_items": null,
            "left": null,
            "margin": null,
            "max_height": null,
            "max_width": null,
            "min_height": null,
            "min_width": null,
            "object_fit": null,
            "object_position": null,
            "order": null,
            "overflow": null,
            "overflow_x": null,
            "overflow_y": null,
            "padding": null,
            "right": null,
            "top": null,
            "visibility": null,
            "width": null
          }
        },
        "a3988b538c4b46c9998e47ce7ad1ac73": {
          "model_module": "@jupyter-widgets/controls",
          "model_name": "SliderStyleModel",
          "model_module_version": "1.5.0",
          "state": {
            "_model_module": "@jupyter-widgets/controls",
            "_model_module_version": "1.5.0",
            "_model_name": "SliderStyleModel",
            "_view_count": null,
            "_view_module": "@jupyter-widgets/base",
            "_view_module_version": "1.2.0",
            "_view_name": "StyleView",
            "description_width": "",
            "handle_color": null
          }
        },
        "3be4e48674c44fbbaa3b2787963eee17": {
          "model_module": "@jupyter-widgets/base",
          "model_name": "LayoutModel",
          "model_module_version": "1.2.0",
          "state": {
            "_model_module": "@jupyter-widgets/base",
            "_model_module_version": "1.2.0",
            "_model_name": "LayoutModel",
            "_view_count": null,
            "_view_module": "@jupyter-widgets/base",
            "_view_module_version": "1.2.0",
            "_view_name": "LayoutView",
            "align_content": null,
            "align_items": null,
            "align_self": null,
            "border": null,
            "bottom": null,
            "display": null,
            "flex": null,
            "flex_flow": null,
            "grid_area": null,
            "grid_auto_columns": null,
            "grid_auto_flow": null,
            "grid_auto_rows": null,
            "grid_column": null,
            "grid_gap": null,
            "grid_row": null,
            "grid_template_areas": null,
            "grid_template_columns": null,
            "grid_template_rows": null,
            "height": null,
            "justify_content": null,
            "justify_items": null,
            "left": null,
            "margin": null,
            "max_height": null,
            "max_width": null,
            "min_height": null,
            "min_width": null,
            "object_fit": null,
            "object_position": null,
            "order": null,
            "overflow": null,
            "overflow_x": null,
            "overflow_y": null,
            "padding": null,
            "right": null,
            "top": null,
            "visibility": null,
            "width": null
          }
        }
      }
    }
  },
  "nbformat": 4,
  "nbformat_minor": 0
}